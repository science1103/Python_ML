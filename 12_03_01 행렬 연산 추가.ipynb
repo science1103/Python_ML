{
 "cells": [
  {
   "cell_type": "code",
   "execution_count": 1,
   "metadata": {},
   "outputs": [],
   "source": [
    "import numpy as np"
   ]
  },
  {
   "cell_type": "markdown",
   "metadata": {},
   "source": [
    "#### 행렬과 벡터의 곱 확인 \n",
    "- 내적으로 제외한 행렬/벡터 연산은\n",
    "- 행렬/벡터의 모든 원소에 대한 반복적인 연산(+ - * /)\n",
    "- 행렬/벡터끼리 연산을 하는 경우에 대해서 두 피연산자의 크기가 같아야 연산이 이뤄진다."
   ]
  },
  {
   "cell_type": "markdown",
   "metadata": {},
   "source": [
    "#### 스칼라와 벡터의 연산 \n",
    "\n",
    "- 크기가 다른 피연산자의 연산인 경우\n",
    "- 크기가 작은 피연산자를 반복 확장하여 크기가 큰 피연산자의 크기를 맞춘 후에 연산을 적용"
   ]
  },
  {
   "cell_type": "code",
   "execution_count": 23,
   "metadata": {},
   "outputs": [
    {
     "name": "stdout",
     "output_type": "stream",
     "text": [
      "[9 4 0 1 9 0]\n",
      "[90 40  0 10 90  0]\n",
      "[10 10 10 10 10 10]\n",
      "[90 40  0 10 90  0]\n"
     ]
    }
   ],
   "source": [
    "np.random.seed(10)\n",
    "vector = np.random.randint(10, size=6)\n",
    "print(vector)\n",
    "\n",
    "print(10*vector) # 브로드 캐스팅\n",
    "\n",
    "\n",
    "#scalar Vector의 역할 #행 열 #할당할 숫자 \n",
    "scalarVector = np.full((6,), 10)\n",
    "print(scalarVector)\n",
    "print(scalarVector * vector)"
   ]
  },
  {
   "cell_type": "code",
   "execution_count": 24,
   "metadata": {},
   "outputs": [
    {
     "name": "stdout",
     "output_type": "stream",
     "text": [
      "[9 4 0 1 9 0]\n",
      "[90 40  0 10 90  0]\n",
      "[19 14 10 11 19 10]\n",
      "[ 1  6 10  9  1 10]\n"
     ]
    }
   ],
   "source": [
    "print(vector)\n",
    "print(10 * vector)\n",
    "print(10 + vector)\n",
    "print(10 - vector)"
   ]
  },
  {
   "cell_type": "markdown",
   "metadata": {},
   "source": [
    "####  스칼라와 행렬의 연산\n",
    "- 벡터와 마찬가지, 자동으로 확장하여 모든 행렬내의 모든 원소에 반복적으로 적용 "
   ]
  },
  {
   "cell_type": "code",
   "execution_count": 29,
   "metadata": {},
   "outputs": [
    {
     "data": {
      "text/plain": [
       "array([[8, 9, 0],\n",
       "       [8, 6, 4],\n",
       "       [3, 0, 4],\n",
       "       [6, 8, 1]])"
      ]
     },
     "execution_count": 29,
     "metadata": {},
     "output_type": "execute_result"
    }
   ],
   "source": [
    "arr = np.random.randint(10, size=(4,3))\n",
    "arr"
   ]
  },
  {
   "cell_type": "code",
   "execution_count": 34,
   "metadata": {},
   "outputs": [
    {
     "name": "stdout",
     "output_type": "stream",
     "text": [
      "[[8 9 0]\n",
      " [8 6 4]\n",
      " [3 0 4]\n",
      " [6 8 1]]\n",
      "[[80 90  0]\n",
      " [80 60 40]\n",
      " [30  0 40]\n",
      " [60 80 10]]\n",
      "[[ 2  1 10]\n",
      " [ 2  4  6]\n",
      " [ 7 10  6]\n",
      " [ 4  2  9]]\n",
      "[[18 19 10]\n",
      " [18 16 14]\n",
      " [13 10 14]\n",
      " [16 18 11]]\n"
     ]
    }
   ],
   "source": [
    "print(arr)\n",
    "print(10 * arr)\n",
    "print(10 - arr)\n",
    "print(10 + arr)"
   ]
  },
  {
   "cell_type": "markdown",
   "metadata": {},
   "source": [
    "#### 벡터와 벡터간의 연산"
   ]
  },
  {
   "cell_type": "code",
   "execution_count": 49,
   "metadata": {},
   "outputs": [
    {
     "name": "stdout",
     "output_type": "stream",
     "text": [
      "[8 8 6 6]\n",
      "[5 6 0 0]\n",
      "[13 14  6  6]\n",
      "[40 48  0  0]\n",
      "[3 2 6 6]\n"
     ]
    }
   ],
   "source": [
    "# 동일한 크기라면 문제가 일어나지 않는다. \n",
    "# 결과는 벡터의 크기와 동일하게 나타남\n",
    "v1 = np.random.randint(10, size=4) \n",
    "v2 = np.random.randint(10, size=4)\n",
    "print(v1)\n",
    "print(v2)\n",
    "print(v1 + v2)\n",
    "print(v1 * v2)\n",
    "#print(v1 / v2)\n",
    "print(v1 - v2)"
   ]
  },
  {
   "cell_type": "code",
   "execution_count": 50,
   "metadata": {},
   "outputs": [
    {
     "data": {
      "text/plain": [
       "88"
      ]
     },
     "execution_count": 50,
     "metadata": {},
     "output_type": "execute_result"
    }
   ],
   "source": [
    "# 내적을 구한다면 스칼라가 출력됨\n",
    "# 즉 벡터와 벡터간의 내적은 스칼라 형태의 결과가 나타난다.\n",
    "np.dot(v1, v2)"
   ]
  },
  {
   "cell_type": "code",
   "execution_count": 51,
   "metadata": {},
   "outputs": [
    {
     "ename": "ValueError",
     "evalue": "operands could not be broadcast together with shapes (3,) (4,) ",
     "output_type": "error",
     "traceback": [
      "\u001b[1;31m---------------------------------------------------------------------------\u001b[0m",
      "\u001b[1;31mValueError\u001b[0m                                Traceback (most recent call last)",
      "\u001b[1;32m<ipython-input-51-e9d93dae7ea8>\u001b[0m in \u001b[0;36m<module>\u001b[1;34m\u001b[0m\n\u001b[0;32m      2\u001b[0m \u001b[0mv1\u001b[0m \u001b[1;33m=\u001b[0m \u001b[0mnp\u001b[0m\u001b[1;33m.\u001b[0m\u001b[0mrandom\u001b[0m\u001b[1;33m.\u001b[0m\u001b[0mrandint\u001b[0m\u001b[1;33m(\u001b[0m\u001b[1;36m1\u001b[0m\u001b[1;33m,\u001b[0m \u001b[1;36m10\u001b[0m\u001b[1;33m,\u001b[0m \u001b[0msize\u001b[0m\u001b[1;33m=\u001b[0m\u001b[1;33m(\u001b[0m\u001b[1;36m3\u001b[0m\u001b[1;33m,\u001b[0m\u001b[1;33m)\u001b[0m\u001b[1;33m)\u001b[0m\u001b[1;33m\u001b[0m\u001b[1;33m\u001b[0m\u001b[0m\n\u001b[0;32m      3\u001b[0m \u001b[0mv2\u001b[0m \u001b[1;33m=\u001b[0m \u001b[0mnp\u001b[0m\u001b[1;33m.\u001b[0m\u001b[0mrandom\u001b[0m\u001b[1;33m.\u001b[0m\u001b[0mrandint\u001b[0m\u001b[1;33m(\u001b[0m\u001b[1;36m1\u001b[0m\u001b[1;33m,\u001b[0m \u001b[1;36m10\u001b[0m\u001b[1;33m,\u001b[0m \u001b[0msize\u001b[0m\u001b[1;33m=\u001b[0m\u001b[1;33m(\u001b[0m\u001b[1;36m4\u001b[0m\u001b[1;33m,\u001b[0m\u001b[1;33m)\u001b[0m\u001b[1;33m)\u001b[0m\u001b[1;33m\u001b[0m\u001b[1;33m\u001b[0m\u001b[0m\n\u001b[1;32m----> 4\u001b[1;33m \u001b[0mprint\u001b[0m\u001b[1;33m(\u001b[0m\u001b[0mv1\u001b[0m\u001b[1;33m+\u001b[0m\u001b[0mv2\u001b[0m\u001b[1;33m)\u001b[0m\u001b[1;33m\u001b[0m\u001b[1;33m\u001b[0m\u001b[0m\n\u001b[0m",
      "\u001b[1;31mValueError\u001b[0m: operands could not be broadcast together with shapes (3,) (4,) "
     ]
    }
   ],
   "source": [
    "# 크기가 다를 경우 문제가 발생 \n",
    "v1 = np.random.randint(1, 10, size=(3,)) \n",
    "v2 = np.random.randint(1, 10, size=(4,))\n",
    "print(v1+v2)"
   ]
  },
  {
   "cell_type": "code",
   "execution_count": 53,
   "metadata": {},
   "outputs": [
    {
     "ename": "ValueError",
     "evalue": "shapes (3,) and (4,) not aligned: 3 (dim 0) != 4 (dim 0)",
     "output_type": "error",
     "traceback": [
      "\u001b[1;31m---------------------------------------------------------------------------\u001b[0m",
      "\u001b[1;31mValueError\u001b[0m                                Traceback (most recent call last)",
      "\u001b[1;32m<ipython-input-53-1f6be3399b7a>\u001b[0m in \u001b[0;36m<module>\u001b[1;34m\u001b[0m\n\u001b[0;32m      1\u001b[0m \u001b[1;31m# 자동으로 브로드캐스팅 되지 않음\u001b[0m\u001b[1;33m\u001b[0m\u001b[1;33m\u001b[0m\u001b[1;33m\u001b[0m\u001b[0m\n\u001b[1;32m----> 2\u001b[1;33m \u001b[0mnp\u001b[0m\u001b[1;33m.\u001b[0m\u001b[0mdot\u001b[0m\u001b[1;33m(\u001b[0m\u001b[0mv1\u001b[0m\u001b[1;33m,\u001b[0m \u001b[0mv2\u001b[0m\u001b[1;33m)\u001b[0m\u001b[1;33m\u001b[0m\u001b[1;33m\u001b[0m\u001b[0m\n\u001b[0m",
      "\u001b[1;32m<__array_function__ internals>\u001b[0m in \u001b[0;36mdot\u001b[1;34m(*args, **kwargs)\u001b[0m\n",
      "\u001b[1;31mValueError\u001b[0m: shapes (3,) and (4,) not aligned: 3 (dim 0) != 4 (dim 0)"
     ]
    }
   ],
   "source": [
    "# 자동으로 브로드캐스팅 되지 않음\n",
    "np.dot(v1, v2)"
   ]
  },
  {
   "cell_type": "markdown",
   "metadata": {},
   "source": [
    "### inner / dot product\n",
    "- 앞의 열과 뒤 행의 갯수가 같아야 해요 "
   ]
  },
  {
   "cell_type": "code",
   "execution_count": 56,
   "metadata": {},
   "outputs": [
    {
     "name": "stdout",
     "output_type": "stream",
     "text": [
      "[[1 2 3 4]]\n",
      "[[1]\n",
      " [2]\n",
      " [3]\n",
      " [4]]\n"
     ]
    }
   ],
   "source": [
    "arr1 = np.matrix('1,2,3,4')\n",
    "arr2 = np.matrix('1;2;3;4')\n",
    "print(arr1)\n",
    "print(arr2)"
   ]
  },
  {
   "cell_type": "code",
   "execution_count": 58,
   "metadata": {},
   "outputs": [
    {
     "data": {
      "text/plain": [
       "matrix([[30]])"
      ]
     },
     "execution_count": 58,
     "metadata": {},
     "output_type": "execute_result"
    }
   ],
   "source": [
    "arr1 * arr2 #dot product = print Scalar "
   ]
  },
  {
   "cell_type": "code",
   "execution_count": 60,
   "metadata": {},
   "outputs": [
    {
     "data": {
      "text/plain": [
       "matrix([[ 1,  2,  3,  4],\n",
       "        [ 2,  4,  6,  8],\n",
       "        [ 3,  6,  9, 12],\n",
       "        [ 4,  8, 12, 16]])"
      ]
     },
     "execution_count": 60,
     "metadata": {},
     "output_type": "execute_result"
    }
   ],
   "source": [
    "arr2 * arr1"
   ]
  },
  {
   "cell_type": "code",
   "execution_count": 64,
   "metadata": {},
   "outputs": [],
   "source": [
    "arr3 = np.array([1,2,3,4])\n",
    "arr4 = np.array([1,2,3,4])"
   ]
  },
  {
   "cell_type": "code",
   "execution_count": 65,
   "metadata": {},
   "outputs": [
    {
     "data": {
      "text/plain": [
       "30"
      ]
     },
     "execution_count": 65,
     "metadata": {},
     "output_type": "execute_result"
    }
   ],
   "source": [
    "np.dot(arr3, arr4)"
   ]
  },
  {
   "cell_type": "code",
   "execution_count": 67,
   "metadata": {},
   "outputs": [
    {
     "data": {
      "text/plain": [
       "30"
      ]
     },
     "execution_count": 67,
     "metadata": {},
     "output_type": "execute_result"
    }
   ],
   "source": [
    "np.matmul(arr4, arr3)"
   ]
  },
  {
   "cell_type": "code",
   "execution_count": 94,
   "metadata": {},
   "outputs": [
    {
     "ename": "AttributeError",
     "evalue": "'matrix' object has no attribute 'reshpae'",
     "output_type": "error",
     "traceback": [
      "\u001b[1;31m---------------------------------------------------------------------------\u001b[0m",
      "\u001b[1;31mAttributeError\u001b[0m                            Traceback (most recent call last)",
      "\u001b[1;32m<ipython-input-94-8c9cd6e2f8da>\u001b[0m in \u001b[0;36m<module>\u001b[1;34m\u001b[0m\n\u001b[1;32m----> 1\u001b[1;33m \u001b[0marr1\u001b[0m\u001b[1;33m.\u001b[0m\u001b[0mreshpae\u001b[0m\u001b[1;33m(\u001b[0m\u001b[1;36m4\u001b[0m\u001b[1;33m,\u001b[0m\u001b[1;36m1\u001b[0m\u001b[1;33m)\u001b[0m\u001b[1;33m\u001b[0m\u001b[1;33m\u001b[0m\u001b[0m\n\u001b[0m",
      "\u001b[1;31mAttributeError\u001b[0m: 'matrix' object has no attribute 'reshpae'"
     ]
    }
   ],
   "source": [
    "arr1.reshpae(4,1)"
   ]
  },
  {
   "cell_type": "code",
   "execution_count": 100,
   "metadata": {},
   "outputs": [
    {
     "name": "stdout",
     "output_type": "stream",
     "text": [
      "[[1]\n",
      " [2]\n",
      " [3]\n",
      " [4]]\n",
      "[[1 2 3 4]]\n"
     ]
    },
    {
     "data": {
      "text/plain": [
       "matrix([[ 1,  2,  3,  4],\n",
       "        [ 2,  4,  6,  8],\n",
       "        [ 3,  6,  9, 12],\n",
       "        [ 4,  8, 12, 16]])"
      ]
     },
     "execution_count": 100,
     "metadata": {},
     "output_type": "execute_result"
    }
   ],
   "source": [
    "# 자동적으로 브로드캐스팅 되지 않기 때문에 \n",
    "# 강제적으로 형태를 변형시켜서 곱해줘야됨;; \n",
    "\n",
    "print(arr1.reshape(4,1))\n",
    "print(arr2.reshape(1,4))\n",
    "\n",
    "np.dot(arr1.reshape(4,1), arr2.reshape(1,4))"
   ]
  },
  {
   "cell_type": "markdown",
   "metadata": {},
   "source": [
    "#### 벡터와 행렬간의 연산\n",
    "- 벡터는 행렬의 열크기에 맞춰야 계산이 진행된다 "
   ]
  },
  {
   "cell_type": "code",
   "execution_count": 118,
   "metadata": {},
   "outputs": [
    {
     "name": "stdout",
     "output_type": "stream",
     "text": [
      "[6 9 6 1]\n",
      "[[1 2 8 7]\n",
      " [3 5 6 3]\n",
      " [5 3 5 8]]\n"
     ]
    }
   ],
   "source": [
    "np.random.seed(1)\n",
    "arr1 = np.random.randint(1, 10, size=(4,))\n",
    "arr2 = np.random.randint(1, 10, size=(3,4))\n",
    "print(arr1)\n",
    "print(arr2)"
   ]
  },
  {
   "cell_type": "code",
   "execution_count": 119,
   "metadata": {},
   "outputs": [
    {
     "name": "stdout",
     "output_type": "stream",
     "text": [
      "[[ 7 11 14  8]\n",
      " [ 9 14 12  4]\n",
      " [11 12 11  9]]\n",
      "[[ 6 18 48  7]\n",
      " [18 45 36  3]\n",
      " [30 27 30  8]]\n"
     ]
    }
   ],
   "source": [
    "# 벡터가 행렬의 크기에 맞춰 자동으로 확장(브로드 캐스팅)\n",
    "# \n",
    "print(arr1 + arr2 )\n",
    "print(arr1 * arr2 )"
   ]
  },
  {
   "cell_type": "code",
   "execution_count": 116,
   "metadata": {},
   "outputs": [
    {
     "name": "stdout",
     "output_type": "stream",
     "text": [
      "[6 9 6 1]\n",
      "[[1 2 8]\n",
      " [7 3 5]\n",
      " [6 3 5]\n",
      " [3 5 8]]\n"
     ]
    }
   ],
   "source": [
    "np.random.seed(1)\n",
    "arr1 = np.random.randint(1, 10, size=(4,))\n",
    "arr2 = np.random.randint(1, 10, size=(4,3))\n",
    "print(arr1)\n",
    "print(arr2)"
   ]
  },
  {
   "cell_type": "code",
   "execution_count": 117,
   "metadata": {},
   "outputs": [
    {
     "ename": "ValueError",
     "evalue": "operands could not be broadcast together with shapes (4,) (4,3) ",
     "output_type": "error",
     "traceback": [
      "\u001b[1;31m---------------------------------------------------------------------------\u001b[0m",
      "\u001b[1;31mValueError\u001b[0m                                Traceback (most recent call last)",
      "\u001b[1;32m<ipython-input-117-5f694cc3c2a3>\u001b[0m in \u001b[0;36m<module>\u001b[1;34m\u001b[0m\n\u001b[0;32m      1\u001b[0m \u001b[1;31m# 벡터가 행렬의 크기에 맞춰 자동으로 확장(브로드 캐스팅)\u001b[0m\u001b[1;33m\u001b[0m\u001b[1;33m\u001b[0m\u001b[1;33m\u001b[0m\u001b[0m\n\u001b[0;32m      2\u001b[0m \u001b[1;31m#\u001b[0m\u001b[1;33m\u001b[0m\u001b[1;33m\u001b[0m\u001b[1;33m\u001b[0m\u001b[0m\n\u001b[1;32m----> 3\u001b[1;33m \u001b[0mprint\u001b[0m\u001b[1;33m(\u001b[0m\u001b[0marr1\u001b[0m \u001b[1;33m+\u001b[0m \u001b[0marr2\u001b[0m \u001b[1;33m)\u001b[0m\u001b[1;33m\u001b[0m\u001b[1;33m\u001b[0m\u001b[0m\n\u001b[0m\u001b[0;32m      4\u001b[0m \u001b[0mprint\u001b[0m\u001b[1;33m(\u001b[0m\u001b[0marr1\u001b[0m \u001b[1;33m*\u001b[0m \u001b[0marr2\u001b[0m \u001b[1;33m)\u001b[0m\u001b[1;33m\u001b[0m\u001b[1;33m\u001b[0m\u001b[0m\n",
      "\u001b[1;31mValueError\u001b[0m: operands could not be broadcast together with shapes (4,) (4,3) "
     ]
    }
   ],
   "source": [
    "# 벡터가 행렬의 크기에 맞춰 자동으로 확장(브로드 캐스팅)\n",
    "# \n",
    "print(arr1 + arr2 )\n",
    "print(arr1 * arr2 )"
   ]
  },
  {
   "cell_type": "markdown",
   "metadata": {},
   "source": [
    "#### 행렬과 행렬간의 연산\n",
    "- 행과 열의 갯수가 반드시 일치해야 계산이 진행된다. \n",
    "- 2차원 행렬과 3차원 행렬간에도 역시 브로드 캐스팅이 적용됨 \n",
    "- 행렬의 차원이 다르면 브로드 캐스팅 역시 적용이 된다.\n",
    "- 자동으로 확장되었을 경우 모양이 일치하기만 하면 된다. "
   ]
  },
  {
   "cell_type": "code",
   "execution_count": 121,
   "metadata": {},
   "outputs": [],
   "source": [
    "np.random.seed(1)\n",
    "arr1 = np.random.randint(1, 10, size=(2,3))\n",
    "arr2 = np.random.randint(1, 10, size=(2,3))"
   ]
  },
  {
   "cell_type": "code",
   "execution_count": 122,
   "metadata": {},
   "outputs": [
    {
     "name": "stdout",
     "output_type": "stream",
     "text": [
      "[[6 9 6]\n",
      " [1 1 2]]\n",
      "[[8 7 3]\n",
      " [5 6 3]]\n"
     ]
    }
   ],
   "source": [
    "print(arr1)\n",
    "print(arr2)"
   ]
  },
  {
   "cell_type": "code",
   "execution_count": 124,
   "metadata": {},
   "outputs": [
    {
     "name": "stdout",
     "output_type": "stream",
     "text": [
      "[[14 16  9]\n",
      " [ 6  7  5]]\n",
      "[[48 63 18]\n",
      " [ 5  6  6]]\n"
     ]
    }
   ],
   "source": [
    "print(arr1 + arr2)\n",
    "print(arr1 * arr2)"
   ]
  },
  {
   "cell_type": "markdown",
   "metadata": {},
   "source": [
    "디멘션이 다를경우 \n",
    "낮은 차원의 행렬이 높은 차원의 행렬에 맞춰 자동으로 브로드캐스팅됨"
   ]
  }
 ],
 "metadata": {
  "kernelspec": {
   "display_name": "Python 3",
   "language": "python",
   "name": "python3"
  },
  "language_info": {
   "codemirror_mode": {
    "name": "ipython",
    "version": 3
   },
   "file_extension": ".py",
   "mimetype": "text/x-python",
   "name": "python",
   "nbconvert_exporter": "python",
   "pygments_lexer": "ipython3",
   "version": "3.8.3"
  }
 },
 "nbformat": 4,
 "nbformat_minor": 4
}
