{
 "cells": [
  {
   "cell_type": "code",
   "execution_count": 204,
   "metadata": {},
   "outputs": [],
   "source": [
    "# 회귀모형 \n",
    "import numpy as np\n",
    "import matplotlib.pyplot as plt \n",
    "import pandas as pd \n",
    "import seaborn as sns \n",
    "\n",
    "# 쓸데없는 알림 방지\n",
    "import warnings\n",
    "warnings.filterwarnings('always')\n",
    "warnings.filterwarnings('ignore')\n",
    "\n",
    "import itertools\n",
    "\n",
    "#통계적 모형\n",
    "import statsmodels.api as sm # 선형회귀 \n",
    "from statsmodels.stats.outliers_influence import variance_inflation_factor # 다중공산성 \n",
    "\n",
    "#머신러닝\n",
    "from sklearn import datasets\n",
    "from sklearn import metrics\n",
    "from sklearn import svm, neighbors, tree  # 트리 KNN \n",
    "\n",
    "from sklearn.ensemble import RandomForestClassifier, AdaBoostClassifier # 앙상블  \n",
    "from sklearn.linear_model import Ridge, Lasso, LinearRegression, LogisticRegression #릿지라쏘 \n",
    "from sklearn.model_selection import train_test_split, GridSearchCV, cross_val_score, KFold # 그리드 서치, 트레인 테스트 셋 분리 \n",
    "from sklearn.preprocessing import StandardScaler, RobustScaler, Normalizer,MinMaxScaler # scale\n",
    "\n",
    "from sklearn.metrics import mean_squared_log_error, mean_squared_error, r2_score, mean_absolute_error #연속형일때 사용하는 경우 \n",
    "from sklearn.metrics import accuracy_score, roc_auc_score, roc_curve, confusion_matrix #범주형(분류모델)\n",
    "\n",
    "# boost 계열 \n",
    "import xgboost as xgb \n",
    "import lightgbm as lgb\n",
    "import catboost as cb"
   ]
  },
  {
   "cell_type": "markdown",
   "metadata": {},
   "source": [
    "personal loan.csv를 가지고 지금까지 배웠던 \n",
    "- SVM, KNN, Decision Tree, ensemble 등을 적용해서 \n",
    "    - 가장 정확도가 높은 모델을 찾아보라\n",
    "    - 정확도가 무엇인지 확인하라. "
   ]
  },
  {
   "cell_type": "markdown",
   "metadata": {},
   "source": [
    "반응변수 = Personal Loan(대출 유무) \n",
    "- 입력변수 \n",
    "    - Experience : 경력\n",
    "    - income : 수입\n",
    "    - zip : 우편번호 \n",
    "    - family : 가족 \n",
    "    - CCabg : 월단위 카드 사용량 \n",
    "    - education : 교육 수준\n",
    "    - mortgage : 대출 \n",
    "    - security account : 유가증권  계좌 유무 \n",
    "    - cd account : 양도 예금증서 계좌 유무 \n",
    "    - online : 온라인 계좌유무 \n",
    "    - credit card : 신용카드 유무 "
   ]
  },
  {
   "cell_type": "code",
   "execution_count": 205,
   "metadata": {},
   "outputs": [],
   "source": [
    "Loan_data = pd.read_csv('C:/Users/scien/Videos/Personal_Loan.csv')"
   ]
  },
  {
   "cell_type": "markdown",
   "metadata": {},
   "source": [
    "### 데이터 전처리 작업 \n",
    "\n",
    "- Y 설정\n",
    "- X 설정\n",
    "- 다중 공산성 확인 전에 Y와 무관한 특정 X 컬럼들 전부 지워버리기 "
   ]
  },
  {
   "cell_type": "code",
   "execution_count": 206,
   "metadata": {},
   "outputs": [
    {
     "name": "stdout",
     "output_type": "stream",
     "text": [
      "<class 'pandas.core.frame.DataFrame'>\n",
      "RangeIndex: 2500 entries, 0 to 2499\n",
      "Data columns (total 14 columns):\n",
      " #   Column              Non-Null Count  Dtype  \n",
      "---  ------              --------------  -----  \n",
      " 0   ID                  2500 non-null   int64  \n",
      " 1   Age                 2500 non-null   int64  \n",
      " 2   Experience          2500 non-null   int64  \n",
      " 3   Income              2500 non-null   int64  \n",
      " 4   ZIP Code            2500 non-null   int64  \n",
      " 5   Family              2500 non-null   int64  \n",
      " 6   CCAvg               2500 non-null   float64\n",
      " 7   Education           2500 non-null   int64  \n",
      " 8   Mortgage            2500 non-null   int64  \n",
      " 9   Personal Loan       2500 non-null   int64  \n",
      " 10  Securities Account  2500 non-null   int64  \n",
      " 11  CD Account          2500 non-null   int64  \n",
      " 12  Online              2500 non-null   int64  \n",
      " 13  CreditCard          2500 non-null   int64  \n",
      "dtypes: float64(1), int64(13)\n",
      "memory usage: 273.6 KB\n"
     ]
    }
   ],
   "source": [
    "Loan_data.info()"
   ]
  },
  {
   "cell_type": "code",
   "execution_count": 207,
   "metadata": {},
   "outputs": [],
   "source": [
    "Loan_target = Loan_data[['Personal Loan']]"
   ]
  },
  {
   "cell_type": "code",
   "execution_count": 208,
   "metadata": {
    "scrolled": true
   },
   "outputs": [
    {
     "data": {
      "text/html": [
       "<div>\n",
       "<style scoped>\n",
       "    .dataframe tbody tr th:only-of-type {\n",
       "        vertical-align: middle;\n",
       "    }\n",
       "\n",
       "    .dataframe tbody tr th {\n",
       "        vertical-align: top;\n",
       "    }\n",
       "\n",
       "    .dataframe thead th {\n",
       "        text-align: right;\n",
       "    }\n",
       "</style>\n",
       "<table border=\"1\" class=\"dataframe\">\n",
       "  <thead>\n",
       "    <tr style=\"text-align: right;\">\n",
       "      <th></th>\n",
       "      <th>Age</th>\n",
       "      <th>Experience</th>\n",
       "      <th>Income</th>\n",
       "      <th>Family</th>\n",
       "      <th>CCAvg</th>\n",
       "      <th>Education</th>\n",
       "      <th>Mortgage</th>\n",
       "      <th>Securities Account</th>\n",
       "      <th>CD Account</th>\n",
       "      <th>Online</th>\n",
       "      <th>CreditCard</th>\n",
       "    </tr>\n",
       "  </thead>\n",
       "  <tbody>\n",
       "    <tr>\n",
       "      <th>0</th>\n",
       "      <td>25</td>\n",
       "      <td>1</td>\n",
       "      <td>49</td>\n",
       "      <td>4</td>\n",
       "      <td>1.6</td>\n",
       "      <td>1</td>\n",
       "      <td>0</td>\n",
       "      <td>1</td>\n",
       "      <td>0</td>\n",
       "      <td>0</td>\n",
       "      <td>0</td>\n",
       "    </tr>\n",
       "    <tr>\n",
       "      <th>1</th>\n",
       "      <td>45</td>\n",
       "      <td>19</td>\n",
       "      <td>34</td>\n",
       "      <td>3</td>\n",
       "      <td>1.5</td>\n",
       "      <td>1</td>\n",
       "      <td>0</td>\n",
       "      <td>1</td>\n",
       "      <td>0</td>\n",
       "      <td>0</td>\n",
       "      <td>0</td>\n",
       "    </tr>\n",
       "    <tr>\n",
       "      <th>2</th>\n",
       "      <td>39</td>\n",
       "      <td>15</td>\n",
       "      <td>11</td>\n",
       "      <td>1</td>\n",
       "      <td>1.0</td>\n",
       "      <td>1</td>\n",
       "      <td>0</td>\n",
       "      <td>0</td>\n",
       "      <td>0</td>\n",
       "      <td>0</td>\n",
       "      <td>0</td>\n",
       "    </tr>\n",
       "    <tr>\n",
       "      <th>3</th>\n",
       "      <td>35</td>\n",
       "      <td>9</td>\n",
       "      <td>100</td>\n",
       "      <td>1</td>\n",
       "      <td>2.7</td>\n",
       "      <td>2</td>\n",
       "      <td>0</td>\n",
       "      <td>0</td>\n",
       "      <td>0</td>\n",
       "      <td>0</td>\n",
       "      <td>0</td>\n",
       "    </tr>\n",
       "    <tr>\n",
       "      <th>4</th>\n",
       "      <td>35</td>\n",
       "      <td>8</td>\n",
       "      <td>45</td>\n",
       "      <td>4</td>\n",
       "      <td>1.0</td>\n",
       "      <td>2</td>\n",
       "      <td>0</td>\n",
       "      <td>0</td>\n",
       "      <td>0</td>\n",
       "      <td>0</td>\n",
       "      <td>1</td>\n",
       "    </tr>\n",
       "    <tr>\n",
       "      <th>...</th>\n",
       "      <td>...</td>\n",
       "      <td>...</td>\n",
       "      <td>...</td>\n",
       "      <td>...</td>\n",
       "      <td>...</td>\n",
       "      <td>...</td>\n",
       "      <td>...</td>\n",
       "      <td>...</td>\n",
       "      <td>...</td>\n",
       "      <td>...</td>\n",
       "      <td>...</td>\n",
       "    </tr>\n",
       "    <tr>\n",
       "      <th>2495</th>\n",
       "      <td>46</td>\n",
       "      <td>22</td>\n",
       "      <td>70</td>\n",
       "      <td>4</td>\n",
       "      <td>1.9</td>\n",
       "      <td>1</td>\n",
       "      <td>212</td>\n",
       "      <td>0</td>\n",
       "      <td>0</td>\n",
       "      <td>0</td>\n",
       "      <td>1</td>\n",
       "    </tr>\n",
       "    <tr>\n",
       "      <th>2496</th>\n",
       "      <td>63</td>\n",
       "      <td>37</td>\n",
       "      <td>32</td>\n",
       "      <td>3</td>\n",
       "      <td>0.7</td>\n",
       "      <td>2</td>\n",
       "      <td>141</td>\n",
       "      <td>0</td>\n",
       "      <td>0</td>\n",
       "      <td>0</td>\n",
       "      <td>0</td>\n",
       "    </tr>\n",
       "    <tr>\n",
       "      <th>2497</th>\n",
       "      <td>33</td>\n",
       "      <td>9</td>\n",
       "      <td>14</td>\n",
       "      <td>3</td>\n",
       "      <td>0.9</td>\n",
       "      <td>3</td>\n",
       "      <td>114</td>\n",
       "      <td>0</td>\n",
       "      <td>0</td>\n",
       "      <td>0</td>\n",
       "      <td>0</td>\n",
       "    </tr>\n",
       "    <tr>\n",
       "      <th>2498</th>\n",
       "      <td>38</td>\n",
       "      <td>14</td>\n",
       "      <td>111</td>\n",
       "      <td>2</td>\n",
       "      <td>6.1</td>\n",
       "      <td>1</td>\n",
       "      <td>326</td>\n",
       "      <td>0</td>\n",
       "      <td>0</td>\n",
       "      <td>0</td>\n",
       "      <td>0</td>\n",
       "    </tr>\n",
       "    <tr>\n",
       "      <th>2499</th>\n",
       "      <td>53</td>\n",
       "      <td>27</td>\n",
       "      <td>38</td>\n",
       "      <td>4</td>\n",
       "      <td>2.8</td>\n",
       "      <td>2</td>\n",
       "      <td>144</td>\n",
       "      <td>1</td>\n",
       "      <td>0</td>\n",
       "      <td>1</td>\n",
       "      <td>0</td>\n",
       "    </tr>\n",
       "  </tbody>\n",
       "</table>\n",
       "<p>2500 rows × 11 columns</p>\n",
       "</div>"
      ],
      "text/plain": [
       "      Age  Experience  Income  Family  CCAvg  Education  Mortgage  \\\n",
       "0      25           1      49       4    1.6          1         0   \n",
       "1      45          19      34       3    1.5          1         0   \n",
       "2      39          15      11       1    1.0          1         0   \n",
       "3      35           9     100       1    2.7          2         0   \n",
       "4      35           8      45       4    1.0          2         0   \n",
       "...   ...         ...     ...     ...    ...        ...       ...   \n",
       "2495   46          22      70       4    1.9          1       212   \n",
       "2496   63          37      32       3    0.7          2       141   \n",
       "2497   33           9      14       3    0.9          3       114   \n",
       "2498   38          14     111       2    6.1          1       326   \n",
       "2499   53          27      38       4    2.8          2       144   \n",
       "\n",
       "      Securities Account  CD Account  Online  CreditCard  \n",
       "0                      1           0       0           0  \n",
       "1                      1           0       0           0  \n",
       "2                      0           0       0           0  \n",
       "3                      0           0       0           0  \n",
       "4                      0           0       0           1  \n",
       "...                  ...         ...     ...         ...  \n",
       "2495                   0           0       0           1  \n",
       "2496                   0           0       0           0  \n",
       "2497                   0           0       0           0  \n",
       "2498                   0           0       0           0  \n",
       "2499                   1           0       1           0  \n",
       "\n",
       "[2500 rows x 11 columns]"
      ]
     },
     "execution_count": 208,
     "metadata": {},
     "output_type": "execute_result"
    }
   ],
   "source": [
    "Loan_features = Loan_data.drop(columns = ['Personal Loan','ID', 'ZIP Code'])\n",
    "Loan_features"
   ]
  },
  {
   "cell_type": "code",
   "execution_count": 209,
   "metadata": {},
   "outputs": [
    {
     "name": "stdout",
     "output_type": "stream",
     "text": [
      "Age                   0\n",
      "Experience            0\n",
      "Income                0\n",
      "Family                0\n",
      "CCAvg                 0\n",
      "Education             0\n",
      "Mortgage              0\n",
      "Securities Account    0\n",
      "CD Account            0\n",
      "Online                0\n",
      "CreditCard            0\n",
      "dtype: int64\n",
      "Personal Loan    0\n",
      "dtype: int64\n"
     ]
    }
   ],
   "source": [
    "print(Loan_features.isna().sum())\n",
    "print(Loan_target.isna().sum())"
   ]
  },
  {
   "cell_type": "markdown",
   "metadata": {},
   "source": [
    "- Loan_target = 원 데이터의 Y (Personal Loan) \n",
    "- Loan_features = 원 데이터의 X (Personal 외) \n",
    "- train_x 원 데이터의 학습셋 \n",
    "- test_y 원 데이터의 테스트 셋 "
   ]
  },
  {
   "cell_type": "markdown",
   "metadata": {},
   "source": [
    "#### 셋 스플릿 "
   ]
  },
  {
   "cell_type": "code",
   "execution_count": 210,
   "metadata": {
    "scrolled": true
   },
   "outputs": [
    {
     "name": "stdout",
     "output_type": "stream",
     "text": [
      "(2000, 11) (2000, 1) (500, 11) (500, 1)\n"
     ]
    }
   ],
   "source": [
    "train_x, test_x, train_y, test_y = train_test_split(Loan_features, Loan_target, train_size=0.8, random_state=123)\n",
    "print(train_x.shape, train_y.shape, test_x.shape, test_y.shape)"
   ]
  },
  {
   "cell_type": "markdown",
   "metadata": {},
   "source": [
    "#### MIN MAX SCALER"
   ]
  },
  {
   "cell_type": "code",
   "execution_count": 211,
   "metadata": {},
   "outputs": [],
   "source": [
    "std_scaler = MinMaxScaler()\n",
    "std_scaler_fit = std_scaler.fit(train_x)\n",
    "train_x = pd.DataFrame(std_scaler_fit.transform(train_x), index=train_x.index, columns=train_x.columns)\n",
    "test_x = pd.DataFrame(std_scaler_fit.transform(test_x), index = test_x.index, columns=test_x.columns)"
   ]
  },
  {
   "cell_type": "markdown",
   "metadata": {},
   "source": [
    "### 일반 로지스틱 회귀"
   ]
  },
  {
   "cell_type": "code",
   "execution_count": 212,
   "metadata": {},
   "outputs": [
    {
     "name": "stdout",
     "output_type": "stream",
     "text": [
      "Optimization terminated successfully.\n",
      "         Current function value: 0.277162\n",
      "         Iterations 8\n"
     ]
    },
    {
     "data": {
      "text/html": [
       "<table class=\"simpletable\">\n",
       "<caption>Logit Regression Results</caption>\n",
       "<tr>\n",
       "  <th>Dep. Variable:</th>     <td>Personal Loan</td>  <th>  No. Observations:  </th>  <td>  2000</td>  \n",
       "</tr>\n",
       "<tr>\n",
       "  <th>Model:</th>                 <td>Logit</td>      <th>  Df Residuals:      </th>  <td>  1989</td>  \n",
       "</tr>\n",
       "<tr>\n",
       "  <th>Method:</th>                 <td>MLE</td>       <th>  Df Model:          </th>  <td>    10</td>  \n",
       "</tr>\n",
       "<tr>\n",
       "  <th>Date:</th>            <td>Thu, 14 Jan 2021</td> <th>  Pseudo R-squ.:     </th>  <td>0.1827</td>  \n",
       "</tr>\n",
       "<tr>\n",
       "  <th>Time:</th>                <td>16:41:44</td>     <th>  Log-Likelihood:    </th> <td> -554.32</td> \n",
       "</tr>\n",
       "<tr>\n",
       "  <th>converged:</th>             <td>True</td>       <th>  LL-Null:           </th> <td> -678.27</td> \n",
       "</tr>\n",
       "<tr>\n",
       "  <th>Covariance Type:</th>     <td>nonrobust</td>    <th>  LLR p-value:       </th> <td>1.508e-47</td>\n",
       "</tr>\n",
       "</table>\n",
       "<table class=\"simpletable\">\n",
       "<tr>\n",
       "           <td></td>             <th>coef</th>     <th>std err</th>      <th>z</th>      <th>P>|z|</th>  <th>[0.025</th>    <th>0.975]</th>  \n",
       "</tr>\n",
       "<tr>\n",
       "  <th>Age</th>                <td>   -2.3985</td> <td>    2.888</td> <td>   -0.830</td> <td> 0.406</td> <td>   -8.060</td> <td>    3.263</td>\n",
       "</tr>\n",
       "<tr>\n",
       "  <th>Experience</th>         <td>   -1.4685</td> <td>    2.881</td> <td>   -0.510</td> <td> 0.610</td> <td>   -7.115</td> <td>    4.178</td>\n",
       "</tr>\n",
       "<tr>\n",
       "  <th>Income</th>             <td>    2.6529</td> <td>    0.367</td> <td>    7.219</td> <td> 0.000</td> <td>    1.933</td> <td>    3.373</td>\n",
       "</tr>\n",
       "<tr>\n",
       "  <th>Family</th>             <td>   -1.0251</td> <td>    0.191</td> <td>   -5.374</td> <td> 0.000</td> <td>   -1.399</td> <td>   -0.651</td>\n",
       "</tr>\n",
       "<tr>\n",
       "  <th>CCAvg</th>              <td>    0.2596</td> <td>    0.466</td> <td>    0.557</td> <td> 0.577</td> <td>   -0.653</td> <td>    1.173</td>\n",
       "</tr>\n",
       "<tr>\n",
       "  <th>Education</th>          <td>    0.4238</td> <td>    0.185</td> <td>    2.296</td> <td> 0.022</td> <td>    0.062</td> <td>    0.786</td>\n",
       "</tr>\n",
       "<tr>\n",
       "  <th>Mortgage</th>           <td>   -0.2520</td> <td>    0.414</td> <td>   -0.609</td> <td> 0.543</td> <td>   -1.063</td> <td>    0.559</td>\n",
       "</tr>\n",
       "<tr>\n",
       "  <th>Securities Account</th> <td>   -2.0360</td> <td>    0.360</td> <td>   -5.663</td> <td> 0.000</td> <td>   -2.741</td> <td>   -1.331</td>\n",
       "</tr>\n",
       "<tr>\n",
       "  <th>CD Account</th>         <td>    5.0777</td> <td>    0.371</td> <td>   13.699</td> <td> 0.000</td> <td>    4.351</td> <td>    5.804</td>\n",
       "</tr>\n",
       "<tr>\n",
       "  <th>Online</th>             <td>   -1.6117</td> <td>    0.164</td> <td>   -9.853</td> <td> 0.000</td> <td>   -1.932</td> <td>   -1.291</td>\n",
       "</tr>\n",
       "<tr>\n",
       "  <th>CreditCard</th>         <td>   -1.9969</td> <td>    0.255</td> <td>   -7.818</td> <td> 0.000</td> <td>   -2.498</td> <td>   -1.496</td>\n",
       "</tr>\n",
       "</table>"
      ],
      "text/plain": [
       "<class 'statsmodels.iolib.summary.Summary'>\n",
       "\"\"\"\n",
       "                           Logit Regression Results                           \n",
       "==============================================================================\n",
       "Dep. Variable:          Personal Loan   No. Observations:                 2000\n",
       "Model:                          Logit   Df Residuals:                     1989\n",
       "Method:                           MLE   Df Model:                           10\n",
       "Date:                Thu, 14 Jan 2021   Pseudo R-squ.:                  0.1827\n",
       "Time:                        16:41:44   Log-Likelihood:                -554.32\n",
       "converged:                       True   LL-Null:                       -678.27\n",
       "Covariance Type:            nonrobust   LLR p-value:                 1.508e-47\n",
       "======================================================================================\n",
       "                         coef    std err          z      P>|z|      [0.025      0.975]\n",
       "--------------------------------------------------------------------------------------\n",
       "Age                   -2.3985      2.888     -0.830      0.406      -8.060       3.263\n",
       "Experience            -1.4685      2.881     -0.510      0.610      -7.115       4.178\n",
       "Income                 2.6529      0.367      7.219      0.000       1.933       3.373\n",
       "Family                -1.0251      0.191     -5.374      0.000      -1.399      -0.651\n",
       "CCAvg                  0.2596      0.466      0.557      0.577      -0.653       1.173\n",
       "Education              0.4238      0.185      2.296      0.022       0.062       0.786\n",
       "Mortgage              -0.2520      0.414     -0.609      0.543      -1.063       0.559\n",
       "Securities Account    -2.0360      0.360     -5.663      0.000      -2.741      -1.331\n",
       "CD Account             5.0777      0.371     13.699      0.000       4.351       5.804\n",
       "Online                -1.6117      0.164     -9.853      0.000      -1.932      -1.291\n",
       "CreditCard            -1.9969      0.255     -7.818      0.000      -2.498      -1.496\n",
       "======================================================================================\n",
       "\"\"\""
      ]
     },
     "execution_count": 212,
     "metadata": {},
     "output_type": "execute_result"
    }
   ],
   "source": [
    "model_logit = sm.Logit(train_y, train_x).fit()\n",
    "model_logit.summary()"
   ]
  },
  {
   "cell_type": "code",
   "execution_count": 213,
   "metadata": {},
   "outputs": [],
   "source": [
    "model_logRg = LogisticRegression().fit(train_x, train_y)\n",
    "pred_logRg_y = model_logRg.predict(test_x)"
   ]
  },
  {
   "cell_type": "code",
   "execution_count": 214,
   "metadata": {},
   "outputs": [
    {
     "data": {
      "text/plain": [
       "0.956"
      ]
     },
     "execution_count": 214,
     "metadata": {},
     "output_type": "execute_result"
    }
   ],
   "source": [
    "cmat = confusion_matrix(test_y, pred_logRg_y)\n",
    "logRg_accuracy = (cmat[0,0] + cmat[1,1]) / np.sum(cmat)\n",
    "logRg_accuracy"
   ]
  },
  {
   "cell_type": "code",
   "execution_count": 215,
   "metadata": {},
   "outputs": [
    {
     "data": {
      "text/plain": [
       "pandas.core.frame.DataFrame"
      ]
     },
     "execution_count": 215,
     "metadata": {},
     "output_type": "execute_result"
    }
   ],
   "source": [
    "type(test_y)"
   ]
  },
  {
   "cell_type": "code",
   "execution_count": 216,
   "metadata": {},
   "outputs": [
    {
     "data": {
      "text/plain": [
       "numpy.ndarray"
      ]
     },
     "execution_count": 216,
     "metadata": {},
     "output_type": "execute_result"
    }
   ],
   "source": [
    "type(pred_logRg_y)"
   ]
  },
  {
   "cell_type": "markdown",
   "metadata": {},
   "source": [
    "### SVM"
   ]
  },
  {
   "cell_type": "code",
   "execution_count": 180,
   "metadata": {},
   "outputs": [],
   "source": [
    "best_score = 0\n",
    "\n",
    "for gamma in [0.001, 0.01, 0.1, 1, 10, 100]:\n",
    "    for c in [0.001, 0.01, 0.1, 1, 10, 100]:\n",
    "        model = svm.SVC(kernel = 'rbf', C=c, gamma=gamma)\n",
    "                                                    #CV cross value 교차검증 \n",
    "        score = cross_val_score(model, train_x, train_y, cv=10)\n",
    "        score = np.mean(score)\n",
    "    \n",
    "        if score > best_score:\n",
    "            best_score  = score \n",
    "            cvs_best_parameter_ = {'C': c, 'gamma' : gamma}"
   ]
  },
  {
   "cell_type": "code",
   "execution_count": 181,
   "metadata": {},
   "outputs": [
    {
     "data": {
      "text/plain": [
       "{'C': 100, 'gamma': 0.1}"
      ]
     },
     "execution_count": 181,
     "metadata": {},
     "output_type": "execute_result"
    }
   ],
   "source": [
    "cvs_best_parameter_"
   ]
  },
  {
   "cell_type": "code",
   "execution_count": 182,
   "metadata": {},
   "outputs": [],
   "source": [
    "model_rbf = svm.SVC(kernel='rbf', C=100, gamma=0.001).fit(train_x, train_y)\n",
    "pred_rbf_y = model_rbf.predict(test_x)"
   ]
  },
  {
   "cell_type": "code",
   "execution_count": 183,
   "metadata": {},
   "outputs": [
    {
     "data": {
      "text/plain": [
       "0.95"
      ]
     },
     "execution_count": 183,
     "metadata": {},
     "output_type": "execute_result"
    }
   ],
   "source": [
    "cmat = confusion_matrix(test_y, pred_rbf_y)\n",
    "rbf_accuracy = (cmat[0,0] + cmat[1,1]) / np.sum(cmat)\n",
    "rbf_accuracy"
   ]
  },
  {
   "cell_type": "markdown",
   "metadata": {},
   "source": [
    "### KNN"
   ]
  },
  {
   "cell_type": "code",
   "execution_count": 184,
   "metadata": {},
   "outputs": [
    {
     "data": {
      "text/plain": [
       "GridSearchCV(cv=5, estimator=KNeighborsClassifier(),\n",
       "             param_grid={'n_neighbors': range(1, 100, 2),\n",
       "                         'weights': ['uniform', 'distance']},\n",
       "             return_train_score=True)"
      ]
     },
     "execution_count": 184,
     "metadata": {},
     "output_type": "execute_result"
    }
   ],
   "source": [
    "k_range = range(1,100,2)\n",
    "params = {\n",
    "    'n_neighbors' : k_range,\n",
    "    'weights' : ['uniform', 'distance']\n",
    "}\n",
    "\n",
    "grid_search_N = GridSearchCV(neighbors.KNeighborsClassifier(), params, cv=5, return_train_score = True)\n",
    "grid_search_N.fit(train_x, train_y)"
   ]
  },
  {
   "cell_type": "code",
   "execution_count": 185,
   "metadata": {},
   "outputs": [
    {
     "data": {
      "text/plain": [
       "KNeighborsClassifier(n_neighbors=1)"
      ]
     },
     "execution_count": 185,
     "metadata": {},
     "output_type": "execute_result"
    }
   ],
   "source": [
    "grid_search_N.best_estimator_"
   ]
  },
  {
   "cell_type": "code",
   "execution_count": 186,
   "metadata": {},
   "outputs": [],
   "source": [
    "model_knn = neighbors.KNeighborsClassifier(11, weights='distance').fit(train_x, train_y)\n",
    "predict_knn_y = model_knn.predict(test_x)"
   ]
  },
  {
   "cell_type": "code",
   "execution_count": 187,
   "metadata": {},
   "outputs": [
    {
     "data": {
      "text/plain": [
       "0.936"
      ]
     },
     "execution_count": 187,
     "metadata": {},
     "output_type": "execute_result"
    }
   ],
   "source": [
    "cmat = confusion_matrix(test_y, predict_knn_y)\n",
    "knn_accuracy = (cmat[0,0] + cmat[1,1]) / np.sum(cmat)\n",
    "knn_accuracy"
   ]
  },
  {
   "cell_type": "markdown",
   "metadata": {},
   "source": [
    "### 디시전 트리 "
   ]
  },
  {
   "cell_type": "code",
   "execution_count": 188,
   "metadata": {},
   "outputs": [
    {
     "data": {
      "text/plain": [
       "GridSearchCV(cv=5, estimator=DecisionTreeClassifier(),\n",
       "             param_grid={'criterion': ['gini', 'entropy'],\n",
       "                         'max_depth': [2, 3, 4, 5, 6, 7, 8, 9, 10],\n",
       "                         'max_features': ['auto', 'sqrt', 'log2'],\n",
       "                         'max_leaf_nodes': [1, 2, 3, 4, 5, 6, 7, 8, 9, 10]},\n",
       "             return_train_score=True)"
      ]
     },
     "execution_count": 188,
     "metadata": {},
     "output_type": "execute_result"
    }
   ],
   "source": [
    "params = {\n",
    "    'criterion' : ['gini', 'entropy'],\n",
    "    'max_depth' : [2,3,4,5,6,7,8,9,10],\n",
    "    'max_leaf_nodes' : [1,2,3,4,5,6,7,8,9,10],\n",
    "    'max_features' : ['auto', 'sqrt', 'log2']\n",
    "}\n",
    "\n",
    "grid_search = GridSearchCV(tree.DecisionTreeClassifier(), params, cv=5, return_train_score = True)\n",
    "grid_search.fit(train_x, train_y)"
   ]
  },
  {
   "cell_type": "code",
   "execution_count": 189,
   "metadata": {},
   "outputs": [
    {
     "data": {
      "text/plain": [
       "{'criterion': 'gini',\n",
       " 'max_depth': 8,\n",
       " 'max_features': 'sqrt',\n",
       " 'max_leaf_nodes': 10}"
      ]
     },
     "execution_count": 189,
     "metadata": {},
     "output_type": "execute_result"
    }
   ],
   "source": [
    "grid_search.best_params_"
   ]
  },
  {
   "cell_type": "code",
   "execution_count": 190,
   "metadata": {},
   "outputs": [
    {
     "data": {
      "text/plain": [
       "0.9615"
      ]
     },
     "execution_count": 190,
     "metadata": {},
     "output_type": "execute_result"
    }
   ],
   "source": [
    "grid_search.best_score_"
   ]
  },
  {
   "cell_type": "code",
   "execution_count": 191,
   "metadata": {},
   "outputs": [],
   "source": [
    "model_tree = tree.DecisionTreeClassifier().fit(train_x, train_y)\n",
    "pred_tree_y = model_tree.predict(test_x)"
   ]
  },
  {
   "cell_type": "code",
   "execution_count": 192,
   "metadata": {},
   "outputs": [
    {
     "data": {
      "text/plain": [
       "0.974"
      ]
     },
     "execution_count": 192,
     "metadata": {},
     "output_type": "execute_result"
    }
   ],
   "source": [
    "cmat=confusion_matrix(test_y, pred_tree_y)\n",
    "tree_accuracy=(cmat[0,0]+cmat[1,1]) / np.sum(cmat)\n",
    "tree_accuracy"
   ]
  },
  {
   "cell_type": "markdown",
   "metadata": {},
   "source": [
    "### 앙상블\n",
    "> n_estimators = 100, max_depth = 5 고정 \n"
   ]
  },
  {
   "cell_type": "markdown",
   "metadata": {},
   "source": [
    "#### 랜덤포레스트"
   ]
  },
  {
   "cell_type": "code",
   "execution_count": 193,
   "metadata": {},
   "outputs": [],
   "source": [
    "model_rf = RandomForestClassifier(n_estimators=100, max_depth=5, random_state=123).fit(train_x, train_y)\n",
    "pred_rf_y = model_rf.predict(test_x)"
   ]
  },
  {
   "cell_type": "code",
   "execution_count": 194,
   "metadata": {},
   "outputs": [
    {
     "data": {
      "text/plain": [
       "0.974"
      ]
     },
     "execution_count": 194,
     "metadata": {},
     "output_type": "execute_result"
    }
   ],
   "source": [
    "cmat=confusion_matrix(test_y, pred_rf_y)\n",
    "rf_accuracy = (cmat[0,0]+cmat[1,1]) / np.sum(cmat)\n",
    "rf_accuracy"
   ]
  },
  {
   "cell_type": "markdown",
   "metadata": {},
   "source": [
    "#### ADABoost "
   ]
  },
  {
   "cell_type": "code",
   "execution_count": 195,
   "metadata": {},
   "outputs": [],
   "source": [
    "dt = tree.DecisionTreeClassifier(max_depth=5)\n",
    "model_ada = AdaBoostClassifier(base_estimator=dt, n_estimators=100, random_state= 123).fit(train_x, train_y)\n"
   ]
  },
  {
   "cell_type": "code",
   "execution_count": 196,
   "metadata": {},
   "outputs": [
    {
     "data": {
      "text/plain": [
       "0.982"
      ]
     },
     "execution_count": 196,
     "metadata": {},
     "output_type": "execute_result"
    }
   ],
   "source": [
    "pred_ada_y = model_ada.predict(test_x)\n",
    "cmat=confusion_matrix(test_y, pred_ada_y)\n",
    "ada_accuracy = (cmat[0,0]+cmat[1,1]) / np.sum(cmat)\n",
    "ada_accuracy"
   ]
  },
  {
   "cell_type": "markdown",
   "metadata": {},
   "source": [
    "#### XGboost "
   ]
  },
  {
   "cell_type": "code",
   "execution_count": 197,
   "metadata": {},
   "outputs": [
    {
     "name": "stdout",
     "output_type": "stream",
     "text": [
      "[15:22:06] WARNING: C:/Users/Administrator/workspace/xgboost-win64_release_1.3.0/src/learner.cc:1061: Starting in XGBoost 1.3.0, the default evaluation metric used with the objective 'multi:softmax' was changed from 'merror' to 'mlogloss'. Explicitly set eval_metric if you'd like to restore the old behavior.\n"
     ]
    }
   ],
   "source": [
    "model_xgb = xgb.XGBClassifier(\n",
    "    n_estimators=100, \n",
    "    max_depth = 5, \n",
    "    random_state=123, \n",
    "    learning_rate =0.01,\n",
    "    objective='multi:softmax',\n",
    "    num_class = 2\n",
    ")\n",
    "model_xgb.fit(train_x, train_y)\n",
    "pred_xgb_y = model_xgb.predict(test_x)"
   ]
  },
  {
   "cell_type": "code",
   "execution_count": 198,
   "metadata": {},
   "outputs": [
    {
     "data": {
      "text/plain": [
       "0.978"
      ]
     },
     "execution_count": 198,
     "metadata": {},
     "output_type": "execute_result"
    }
   ],
   "source": [
    "cmat=confusion_matrix(test_y, pred_xgb_y)\n",
    "xg_accuracy = (cmat[0,0]+cmat[1,1]) / np.sum(cmat)\n",
    "xg_accuracy"
   ]
  },
  {
   "cell_type": "markdown",
   "metadata": {},
   "source": [
    "#### LGBoost"
   ]
  },
  {
   "cell_type": "code",
   "execution_count": 199,
   "metadata": {},
   "outputs": [
    {
     "name": "stdout",
     "output_type": "stream",
     "text": [
      "[LightGBM] [Warning] Accuracy may be bad since you didn't explicitly set num_leaves OR 2^max_depth > num_leaves. (num_leaves=31).\n"
     ]
    }
   ],
   "source": [
    "model_lgb = lgb.LGBMClassifier(\n",
    "    n_estimators=100, \n",
    "    max_depth = 5, \n",
    "    random_state=123, \n",
    "    learning_rate =0.01,\n",
    "    objective = 'binary', #'cross_entorpy'\n",
    ")\n",
    "model_lgb.fit(train_x, train_y)\n",
    "pred_lgb_y = model_lgb.predict(test_x)"
   ]
  },
  {
   "cell_type": "code",
   "execution_count": 200,
   "metadata": {},
   "outputs": [
    {
     "data": {
      "text/plain": [
       "0.972"
      ]
     },
     "execution_count": 200,
     "metadata": {},
     "output_type": "execute_result"
    }
   ],
   "source": [
    "cmat=confusion_matrix(test_y, pred_lgb_y)\n",
    "lgb_accuracy = (cmat[0,0]+cmat[1,1]) / np.sum(cmat)\n",
    "lgb_accuracy"
   ]
  },
  {
   "cell_type": "markdown",
   "metadata": {},
   "source": [
    "#### Cat Boost "
   ]
  },
  {
   "cell_type": "code",
   "execution_count": 201,
   "metadata": {},
   "outputs": [],
   "source": [
    "model_cat = cb.CatBoostClassifier(\n",
    "    n_estimators=100, \n",
    "    max_depth = 5, \n",
    "    random_state=123, \n",
    "    learning_rate =0.01,\n",
    "    eval_metric = 'Accuracy',\n",
    "    loss_function = 'MultiClass',\n",
    "    verbose=False\n",
    ")\n",
    "model_cat.fit(train_x, train_y)\n",
    "pred_cat_y = model_cat.predict(test_x)"
   ]
  },
  {
   "cell_type": "code",
   "execution_count": 202,
   "metadata": {},
   "outputs": [
    {
     "data": {
      "text/plain": [
       "0.974"
      ]
     },
     "execution_count": 202,
     "metadata": {},
     "output_type": "execute_result"
    }
   ],
   "source": [
    "cmat=confusion_matrix(test_y, pred_cat_y)\n",
    "cat_accuracy = (cmat[0,0]+cmat[1,1]) / np.sum(cmat)\n",
    "cat_accuracy"
   ]
  },
  {
   "cell_type": "markdown",
   "metadata": {},
   "source": [
    "## 데이터 스케일링 이전의 데이터 표 "
   ]
  },
  {
   "cell_type": "code",
   "execution_count": 173,
   "metadata": {
    "scrolled": true
   },
   "outputs": [
    {
     "data": {
      "text/html": [
       "<div>\n",
       "<style scoped>\n",
       "    .dataframe tbody tr th:only-of-type {\n",
       "        vertical-align: middle;\n",
       "    }\n",
       "\n",
       "    .dataframe tbody tr th {\n",
       "        vertical-align: top;\n",
       "    }\n",
       "\n",
       "    .dataframe thead th {\n",
       "        text-align: right;\n",
       "    }\n",
       "</style>\n",
       "<table border=\"1\" class=\"dataframe\">\n",
       "  <thead>\n",
       "    <tr style=\"text-align: right;\">\n",
       "      <th></th>\n",
       "      <th>디시전트리</th>\n",
       "      <th>Grid</th>\n",
       "      <th>Rand Forest</th>\n",
       "      <th>LGB</th>\n",
       "      <th>CAT</th>\n",
       "      <th>XG</th>\n",
       "      <th>ADA</th>\n",
       "      <th>KNN</th>\n",
       "      <th>Logistic</th>\n",
       "      <th>SVM</th>\n",
       "    </tr>\n",
       "  </thead>\n",
       "  <tbody>\n",
       "    <tr>\n",
       "      <th>정확도</th>\n",
       "      <td>0.976</td>\n",
       "      <td>0.9045</td>\n",
       "      <td>0.972</td>\n",
       "      <td>0.972</td>\n",
       "      <td>0.974</td>\n",
       "      <td>0.978</td>\n",
       "      <td>0.982</td>\n",
       "      <td>0.914</td>\n",
       "      <td>0.952</td>\n",
       "      <td>0.944</td>\n",
       "    </tr>\n",
       "  </tbody>\n",
       "</table>\n",
       "</div>"
      ],
      "text/plain": [
       "     디시전트리    Grid Rand Forest    LGB    CAT     XG    ADA    KNN Logistic  \\\n",
       "정확도  0.976  0.9045       0.972  0.972  0.974  0.978  0.982  0.914    0.952   \n",
       "\n",
       "       SVM  \n",
       "정확도  0.944  "
      ]
     },
     "execution_count": 173,
     "metadata": {},
     "output_type": "execute_result"
    }
   ],
   "source": [
    "accm = pd.DataFrame(columns = ['디시전트리','Grid','Rand Forest', 'LGB','CAT','XG','ADA', 'KNN', 'Logistic','SVM'],\n",
    "                   index = ['정확도'])\n",
    "accm['디시전트리']['정확도'] = tree_accuracy\n",
    "accm['Grid']['정확도'] = grid_search.best_score_\n",
    "accm['Rand Forest']['정확도'] = rf_accuracy\n",
    "accm['LGB']['정확도'] = lgb_accuracy\n",
    "accm['CAT']['정확도'] = cat_accuracy\n",
    "accm['XG']['정확도'] = xg_accuracy\n",
    "accm['ADA']['정확도'] = ada_accuracy\n",
    "accm['KNN']['정확도'] = knn_accuracy\n",
    "accm['SVM']['정확도'] = rbf_accuracy\n",
    "accm['Logistic']['정확도'] = logRg_accuracy\n",
    "accm"
   ]
  },
  {
   "cell_type": "markdown",
   "metadata": {},
   "source": [
    "## MIN MAX 스케일링 이후의 데이터 표 "
   ]
  },
  {
   "cell_type": "code",
   "execution_count": 203,
   "metadata": {},
   "outputs": [
    {
     "data": {
      "text/html": [
       "<div>\n",
       "<style scoped>\n",
       "    .dataframe tbody tr th:only-of-type {\n",
       "        vertical-align: middle;\n",
       "    }\n",
       "\n",
       "    .dataframe tbody tr th {\n",
       "        vertical-align: top;\n",
       "    }\n",
       "\n",
       "    .dataframe thead th {\n",
       "        text-align: right;\n",
       "    }\n",
       "</style>\n",
       "<table border=\"1\" class=\"dataframe\">\n",
       "  <thead>\n",
       "    <tr style=\"text-align: right;\">\n",
       "      <th></th>\n",
       "      <th>디시전트리</th>\n",
       "      <th>Grid</th>\n",
       "      <th>Rand Forest</th>\n",
       "      <th>LGB</th>\n",
       "      <th>CAT</th>\n",
       "      <th>XG</th>\n",
       "      <th>ADA</th>\n",
       "      <th>KNN</th>\n",
       "      <th>Logistic</th>\n",
       "      <th>SVM</th>\n",
       "    </tr>\n",
       "  </thead>\n",
       "  <tbody>\n",
       "    <tr>\n",
       "      <th>정확도</th>\n",
       "      <td>0.974</td>\n",
       "      <td>0.9615</td>\n",
       "      <td>0.974</td>\n",
       "      <td>0.972</td>\n",
       "      <td>0.974</td>\n",
       "      <td>0.978</td>\n",
       "      <td>0.982</td>\n",
       "      <td>0.936</td>\n",
       "      <td>0.956</td>\n",
       "      <td>0.95</td>\n",
       "    </tr>\n",
       "  </tbody>\n",
       "</table>\n",
       "</div>"
      ],
      "text/plain": [
       "     디시전트리    Grid Rand Forest    LGB    CAT     XG    ADA    KNN Logistic  \\\n",
       "정확도  0.974  0.9615       0.974  0.972  0.974  0.978  0.982  0.936    0.956   \n",
       "\n",
       "      SVM  \n",
       "정확도  0.95  "
      ]
     },
     "execution_count": 203,
     "metadata": {},
     "output_type": "execute_result"
    }
   ],
   "source": [
    "accm = pd.DataFrame(columns = ['디시전트리','Grid','Rand Forest', 'LGB','CAT','XG','ADA', 'KNN', 'Logistic','SVM'],\n",
    "                   index = ['정확도'])\n",
    "accm['디시전트리']['정확도'] = tree_accuracy\n",
    "accm['Grid']['정확도'] = grid_search.best_score_\n",
    "accm['Rand Forest']['정확도'] = rf_accuracy\n",
    "accm['LGB']['정확도'] = lgb_accuracy\n",
    "accm['CAT']['정확도'] = cat_accuracy\n",
    "accm['XG']['정확도'] = xg_accuracy\n",
    "accm['ADA']['정확도'] = ada_accuracy\n",
    "accm['KNN']['정확도'] = knn_accuracy\n",
    "accm['SVM']['정확도'] = rbf_accuracy\n",
    "accm['Logistic']['정확도'] = logRg_accuracy\n",
    "accm"
   ]
  },
  {
   "cell_type": "code",
   "execution_count": null,
   "metadata": {},
   "outputs": [],
   "source": []
  }
 ],
 "metadata": {
  "kernelspec": {
   "display_name": "Python 3",
   "language": "python",
   "name": "python3"
  },
  "language_info": {
   "codemirror_mode": {
    "name": "ipython",
    "version": 3
   },
   "file_extension": ".py",
   "mimetype": "text/x-python",
   "name": "python",
   "nbconvert_exporter": "python",
   "pygments_lexer": "ipython3",
   "version": "3.8.3"
  }
 },
 "nbformat": 4,
 "nbformat_minor": 4
}
