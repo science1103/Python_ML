{
 "cells": [
  {
   "cell_type": "code",
   "execution_count": 1,
   "metadata": {},
   "outputs": [],
   "source": [
    "import numpy as np"
   ]
  },
  {
   "cell_type": "markdown",
   "metadata": {},
   "source": [
    "# numpy의 행렬 \n",
    "\n",
    "1. np.matrix : 수학적 연산이 필요할 때\n",
    "\n",
    "2. np.array : 머신러닝에서 사용함 "
   ]
  },
  {
   "cell_type": "markdown",
   "metadata": {},
   "source": [
    "### matrix 생성해보자 "
   ]
  },
  {
   "cell_type": "code",
   "execution_count": 2,
   "metadata": {},
   "outputs": [
    {
     "name": "stdout",
     "output_type": "stream",
     "text": [
      "[[ 1  2  3  4]\n",
      " [ 5  6  7  8]\n",
      " [ 9 10 11 12]]\n",
      "[[1]\n",
      " [2]\n",
      " [3]\n",
      " [4]]\n"
     ]
    }
   ],
   "source": [
    "A = np.matrix('1,2,3,4 ; 5,6,7,8; 9,10,11,12')\n",
    "x = np.matrix('1;2;3;4') #vector\n",
    "print(A)\n",
    "print(x)"
   ]
  },
  {
   "cell_type": "markdown",
   "metadata": {},
   "source": [
    "### array를 만들자"
   ]
  },
  {
   "cell_type": "code",
   "execution_count": 6,
   "metadata": {},
   "outputs": [
    {
     "name": "stdout",
     "output_type": "stream",
     "text": [
      "[[ 1  2  3  4]\n",
      " [ 5  6  7  8]\n",
      " [ 9 10 11 12]]\n",
      "[[1]\n",
      " [2]\n",
      " [3]\n",
      " [4]]\n"
     ]
    }
   ],
   "source": [
    "C = np.array([\n",
    "    [1,2,3,4],\n",
    "    [5,6,7,8],\n",
    "    [9,10,11,12]\n",
    "])\n",
    "x = np.array([\n",
    "    [1],\n",
    "    [2],\n",
    "    [3],\n",
    "    [4]\n",
    "])\n",
    "print(C)\n",
    "print(x)"
   ]
  },
  {
   "cell_type": "markdown",
   "metadata": {},
   "source": [
    "## 행렬 곱셈 (=내적)\n",
    "- 행렬의 덧셈은 볼 게 없어서 넘어가고 "
   ]
  },
  {
   "cell_type": "markdown",
   "metadata": {},
   "source": [
    "### 행렬 / 벡터 곱 1 - 1\n",
    "\n",
    "- 직접 수기로 계산하기 \n",
    "\n",
    "$$\n",
    "    \\begin[bmatrix]\n",
    "            1 & 4 & 2 & 0 \\\\\n",
    "            9 & 5 & 0 & 0 \\\\\n",
    "            4 & 0 & 2 & 4 \\\\\n",
    "            6 & 1 & 8 & 3 \\\\\n",
    "    \\end[bmatrix]\n",
    "$$"
   ]
  },
  {
   "cell_type": "code",
   "execution_count": 15,
   "metadata": {},
   "outputs": [
    {
     "name": "stdout",
     "output_type": "stream",
     "text": [
      "15\n",
      "19\n",
      "26\n",
      "44\n"
     ]
    }
   ],
   "source": [
    "print(1*1 + 4*2 + 2*3 + 0*4)\n",
    "print(9*1 + 5*2 + 0*3 + 0*4)\n",
    "print(4*1 + 0*2 + 2*3 + 4*4)\n",
    "print(6*1 + 1*2 + 8*3 + 3*4)"
   ]
  },
  {
   "cell_type": "markdown",
   "metadata": {},
   "source": [
    "### 행렬 / 벡터 곱 1 - 2\n",
    "\n",
    "- 직접 수기로 계산하기 \n",
    "\n",
    "$$\n",
    "    \\begin[bmatrix]\n",
    "            4 & 5 & 2 & 1 \\\\\n",
    "            2 & 3 & 8 & 0 \\\\\n",
    "            1 & 0 & 7 & 2 \\\\\n",
    "    \\end[bmatrix]\n",
    "    \\begin[bmatrix]\n",
    "            1 \\\\\n",
    "            2 \\\\\n",
    "            3 \\\\\n",
    "            4 \\\\\n",
    "    \\end[bmatrix]\n",
    "$$"
   ]
  },
  {
   "cell_type": "code",
   "execution_count": 21,
   "metadata": {},
   "outputs": [
    {
     "name": "stdout",
     "output_type": "stream",
     "text": [
      "24\n",
      "32\n",
      "30\n",
      "첫번째 매트릭스에 4번째 행이 없기 때문에 계산이 되지 않음.\n"
     ]
    }
   ],
   "source": [
    "print(1*4 + 2*5 + 3*2 + 4*1)\n",
    "print(1*2 + 2*3 + 3*8 + 4*0)\n",
    "print(1*1 + 2*0 + 3*7 + 4*2)\n",
    "print('첫번째 매트릭스에 4번째 행이 없기 때문에 계산이 되지 않음.')"
   ]
  },
  {
   "cell_type": "markdown",
   "metadata": {},
   "source": [
    "### 행렬/벡터 곱 - 두번째 "
   ]
  },
  {
   "cell_type": "code",
   "execution_count": 3,
   "metadata": {
    "collapsed": true
   },
   "outputs": [
    {
     "name": "stdout",
     "output_type": "stream",
     "text": [
      "[[15.]\n",
      " [19.]\n",
      " [26.]\n",
      " [44.]]\n"
     ]
    }
   ],
   "source": [
    "A = np.matrix('1,4,2,0; 9,5,0,0; 4,0,2,4; 6,1,8,3')\n",
    "x = np.matrix('1;2;3;4')\n",
    "b = np.zeros((4,1)) # 2차원 배열(열벡터)\n",
    "n = 4\n",
    "\n",
    "# to do matrix를 이용한 행렬곱의 결과를 출력\n",
    "for i in range(0, n):\n",
    "    val = 0.0\n",
    "    for j in range(0,n):\n",
    "        #열벡터는 2차원 배열이기 때문에 x와 y의 좌표를 꼭 적어줘야함\n",
    "        val += A[i,j]*x[j,0]\n",
    "    b[i] = val \n",
    "print(b)"
   ]
  },
  {
   "cell_type": "code",
   "execution_count": 77,
   "metadata": {},
   "outputs": [
    {
     "name": "stdout",
     "output_type": "stream",
     "text": [
      "[15 19 26 44]\n"
     ]
    }
   ],
   "source": [
    "# 위 식이 그대로 가져 온 것 \n",
    "A = np.array([\n",
    "    [1,4,2,0],\n",
    "    [9,5,0,0],\n",
    "    [4,0,2,4],\n",
    "    [6,1,8,3]\n",
    "])\n",
    "x = np.array([1,2,3,4])\n",
    "b = np.array([0,0,0,0]) # 1차원 배열 \n",
    "n=4 \n",
    "\n",
    "for i in range(0, n):\n",
    "    val = 0.0\n",
    "    for j in range(0, n):\n",
    "        val += A[i,j] * x[j]\n",
    "    b[i] = val\n",
    "print(b)"
   ]
  },
  {
   "cell_type": "markdown",
   "metadata": {},
   "source": [
    "###### 오답노트 \n",
    "- x[j]가 아닌 x[i]로 했는데 왜 틀렸는지 직접 계산해보기 \n",
    "\n",
    "\n",
    "for i in range(0, n):\n",
    "    val = 0.0\n",
    "    for j in range(0, n):\n",
    "        val += A[i,j] * x[i,0]\n",
    "        \n",
    "= A00 * x0 + A01 * x0 + A02 * x0 + A03 * x0 \n",
    "- 2차원 열벡터 x 값을 차례대로 곱하는 것이 아닌 첫번째 인덱스 x00에 고정되어 계산된 것을 볼 수 있다. \n",
    "\n",
    "- 따라서 for loop의 i 가 아닌 for loop의 j로 해야지 계산할 때마다 x00 x01 x02 x03으로 인덱싱되면서 할당되는 A값을 빠르게 대응해서 matrix 계산을 할 수 있음"
   ]
  },
  {
   "cell_type": "markdown",
   "metadata": {},
   "source": [
    "### 행렬/벡터 곱 - 세번째"
   ]
  },
  {
   "cell_type": "code",
   "execution_count": 81,
   "metadata": {},
   "outputs": [
    {
     "name": "stdout",
     "output_type": "stream",
     "text": [
      "[[1 4 2 0]\n",
      " [9 5 0 0]\n",
      " [6 1 8 3]]\n",
      "\n",
      "[[1]\n",
      " [2]\n",
      " [3]\n",
      " [4]]\n",
      "\n",
      "[[15]\n",
      " [19]\n",
      " [44]]\n"
     ]
    }
   ],
   "source": [
    "#In case matrix type \n",
    "A = np.matrix('1,4,2,0; 9,5,0,0; 6,1,8,3')\n",
    "x = np.matrix('1;2;3;4')\n",
    "\n",
    "print(A)\n",
    "print('')\n",
    "print(x)\n",
    "\n",
    "b = A * x\n",
    "print('')\n",
    "print(b)"
   ]
  },
  {
   "cell_type": "code",
   "execution_count": 84,
   "metadata": {},
   "outputs": [
    {
     "name": "stdout",
     "output_type": "stream",
     "text": [
      "[[1 4 2 0]\n",
      " [9 5 0 0]\n",
      " [4 0 2 4]\n",
      " [6 1 8 3]]\n",
      "\n",
      "[1 2 3 4]\n",
      "\n",
      "[[ 1  8  6  0]\n",
      " [ 9 10  0  0]\n",
      " [ 4  0  6 16]\n",
      " [ 6  2 24 12]]\n"
     ]
    }
   ],
   "source": [
    "# In case array type (Wrong Case)\n",
    "A = np.array([\n",
    "    [1,4,2,0],\n",
    "    [9,5,0,0],\n",
    "    [4,0,2,4],\n",
    "    [6,1,8,3]\n",
    "])\n",
    "x = np.array([1,2,3,4])\n",
    "\n",
    "print(A)\n",
    "print('')\n",
    "print(x)\n",
    "\n",
    "b = A * x\n",
    "print('')\n",
    "print(b)\n",
    "\n",
    "#행렬의 합을 구하듯 계산하기 때문에 array type은 이런식으로 계산하면 안됨"
   ]
  },
  {
   "cell_type": "code",
   "execution_count": 87,
   "metadata": {},
   "outputs": [
    {
     "name": "stdout",
     "output_type": "stream",
     "text": [
      "[[1 4 2 0]\n",
      " [9 5 0 0]\n",
      " [4 0 2 4]\n",
      " [6 1 8 3]]\n",
      "\n",
      "[1 2 3 4]\n",
      "\n",
      "[15 19 26 44]\n",
      "\n",
      "[15 19 26 44]\n"
     ]
    }
   ],
   "source": [
    "# In case array type (Right Case)\n",
    "# Array type 행렬 계산시 np.dot() 혹은 np.matmul()로 계산해야한다\n",
    "A = np.array([\n",
    "    [1,4,2,0],\n",
    "    [9,5,0,0],\n",
    "    [4,0,2,4],\n",
    "    [6,1,8,3]\n",
    "])\n",
    "x = np.array([1,2,3,4])\n",
    "\n",
    "print(A)\n",
    "print('')\n",
    "print(x)\n",
    "\n",
    "b = np.dot(A, x)\n",
    "print('')\n",
    "print(b)\n",
    "\n",
    "b = np.matmul(A, x)\n",
    "print('')\n",
    "print(b)"
   ]
  },
  {
   "cell_type": "markdown",
   "metadata": {},
   "source": [
    "### 실습. 행렬/벡터 곱의 array와 matrix의 계산차이를 알아보자 "
   ]
  },
  {
   "cell_type": "code",
   "execution_count": 156,
   "metadata": {},
   "outputs": [],
   "source": [
    "A = np.matrix('4,5,2,1; 2,3,8,0; 1,0,7,2')\n",
    "x = np.matrix('1;2;3;4')"
   ]
  },
  {
   "cell_type": "code",
   "execution_count": 157,
   "metadata": {},
   "outputs": [
    {
     "name": "stdout",
     "output_type": "stream",
     "text": [
      "[[4 5 2 1]\n",
      " [2 3 8 0]\n",
      " [1 0 7 2]]\n"
     ]
    },
    {
     "data": {
      "text/plain": [
       "matrix([[1],\n",
       "        [2],\n",
       "        [3],\n",
       "        [4]])"
      ]
     },
     "execution_count": 157,
     "metadata": {},
     "output_type": "execute_result"
    }
   ],
   "source": [
    "print(A)\n",
    "x"
   ]
  },
  {
   "cell_type": "code",
   "execution_count": 146,
   "metadata": {},
   "outputs": [
    {
     "name": "stdout",
     "output_type": "stream",
     "text": [
      "[[24.]\n",
      " [32.]\n",
      " [30.]]\n"
     ]
    }
   ],
   "source": [
    "#for loop를 이용한 행렬/벡터 곱 구현\n",
    "b = np.zeros((3,1))\n",
    "for i in range(0,3):\n",
    "    value = 0\n",
    "    for j in range(0,3+1):\n",
    "        value += A[i,j]*x[j,0]\n",
    "    b[i] = value\n",
    "print(b)"
   ]
  },
  {
   "cell_type": "code",
   "execution_count": 124,
   "metadata": {
    "scrolled": true
   },
   "outputs": [
    {
     "data": {
      "text/plain": [
       "matrix([[24],\n",
       "        [32],\n",
       "        [30]])"
      ]
     },
     "execution_count": 124,
     "metadata": {},
     "output_type": "execute_result"
    }
   ],
   "source": [
    "#matrix type의 행렬/벡터 곱 구현\n",
    "A*x"
   ]
  },
  {
   "cell_type": "code",
   "execution_count": 152,
   "metadata": {},
   "outputs": [],
   "source": [
    "A = np.array([[4,5,2,1], [2,3,8,0], [1,0,7,2]])\n",
    "x = np.array([1,2,3,4])"
   ]
  },
  {
   "cell_type": "code",
   "execution_count": 154,
   "metadata": {},
   "outputs": [
    {
     "name": "stdout",
     "output_type": "stream",
     "text": [
      "[[4 5 2 1]\n",
      " [2 3 8 0]\n",
      " [1 0 7 2]]\n"
     ]
    },
    {
     "data": {
      "text/plain": [
       "array([1, 2, 3, 4])"
      ]
     },
     "execution_count": 154,
     "metadata": {},
     "output_type": "execute_result"
    }
   ],
   "source": [
    "print(A)\n",
    "x"
   ]
  },
  {
   "cell_type": "code",
   "execution_count": 165,
   "metadata": {},
   "outputs": [
    {
     "name": "stdout",
     "output_type": "stream",
     "text": [
      "float64\n",
      "[24. 32. 30.]\n"
     ]
    }
   ],
   "source": [
    "#for loop를 이용한 행렬/벡터 곱 구현\n",
    "\n",
    "# b가 실수 타입이기 때문에 \n",
    "b = np.zeros((3)) #만약 정수타입으로 바꾸고 싶으면 ,dtype = 'i' 해야됨\n",
    "print(b.dtype)\n",
    "for i in range(3):\n",
    "    value = 0.0 # value값을 0.0 실수로 맞춰줘야함\n",
    "    for j in range(3+1):\n",
    "        value += A[i,j]*x[j]\n",
    "    b[i] = value\n",
    "print(b)"
   ]
  },
  {
   "cell_type": "code",
   "execution_count": 160,
   "metadata": {},
   "outputs": [
    {
     "data": {
      "text/plain": [
       "dtype('float64')"
      ]
     },
     "execution_count": 160,
     "metadata": {},
     "output_type": "execute_result"
    }
   ],
   "source": []
  },
  {
   "cell_type": "code",
   "execution_count": 127,
   "metadata": {},
   "outputs": [
    {
     "name": "stdout",
     "output_type": "stream",
     "text": [
      "np.dot type:  [24 32 30]\n",
      "np.matmul:  [24 32 30]\n"
     ]
    }
   ],
   "source": [
    "#matrix type의 행렬/벡터 곱 구현\n",
    "Answer = np.dot(A, x)\n",
    "print(\"np.dot type: \", Answer)\n",
    "\n",
    "Answer2 = np.matmul(A, x)\n",
    "print(\"np.matmul: \", Answer2)"
   ]
  }
 ],
 "metadata": {
  "kernelspec": {
   "display_name": "Python 3",
   "language": "python",
   "name": "python3"
  },
  "language_info": {
   "codemirror_mode": {
    "name": "ipython",
    "version": 3
   },
   "file_extension": ".py",
   "mimetype": "text/x-python",
   "name": "python",
   "nbconvert_exporter": "python",
   "pygments_lexer": "ipython3",
   "version": "3.8.3"
  }
 },
 "nbformat": 4,
 "nbformat_minor": 4
}
