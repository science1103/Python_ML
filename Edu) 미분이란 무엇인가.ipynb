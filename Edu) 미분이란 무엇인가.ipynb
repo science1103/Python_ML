{
 "cells": [
  {
   "cell_type": "markdown",
   "metadata": {},
   "source": [
    "## 미분이 가능한 계수 "
   ]
  },
  {
   "cell_type": "markdown",
   "metadata": {},
   "source": [
    "$$\n",
    "    f(x) = \\beta_0 + \\beta_1 x\n",
    "$$"
   ]
  },
  {
   "cell_type": "markdown",
   "metadata": {},
   "source": [
    "#### 두 변수 x,y가 선형적인 관계라고 가정한다면? \n",
    "- 손실함수 LSE(Least Squared Error)\n",
    "\n",
    "$$\n",
    "    \\hat Y = f(\\beta_0, \\beta_1) = \\beta_0 + \\beta_1 * X_1\n",
    "$$\n",
    "\n",
    "$$\n",
    "    L(\\beta_0, \\beta_1) = \\sum_{i=1}^n(Y - \\hat Y)^2\n",
    "$$"
   ]
  },
  {
   "cell_type": "markdown",
   "metadata": {},
   "source": [
    "- LAD(Least Absolute Deviation)\n",
    "$$\n",
    "    \\hat Y = f(\\beta_0, \\beta_1) = \\beta_0 + \\beta_1 * X_1\n",
    "$$\n",
    "\n",
    "$$\n",
    "    L(\\beta_0, \\beta_1) = \\sum_{i=1}^n|Y - \\hat Y|\n",
    "$$"
   ]
  },
  {
   "cell_type": "markdown",
   "metadata": {},
   "source": [
    "- 즉 손실함수란 \n",
    "    - 주어진 값 Y와 예측된 값 Yhat의 차이의 제곱의 총합 혹은 절대값의 총합\n",
    "    - 손실함수의 값이 최소가 되는 Yhat이 최적화된 값\n",
    "    - Yhat을 찾는 것은 손실함수의 함수값이 최소가 되는 `베타(회귀계수)`를 찾는다는 것과 동일하다 \n",
    "    - 최적화 과정 "
   ]
  },
  {
   "cell_type": "markdown",
   "metadata": {},
   "source": [
    "# 머신러닝 알고리즘"
   ]
  },
  {
   "cell_type": "markdown",
   "metadata": {},
   "source": [
    "1. 지도학습 알고리즘 \n",
    "    - 예측: 반응변수 Y에 따라 실수(연속)인 경우  \n",
    "        - Linear Regression \n",
    "    - 분류: 반응변수 Y의 형태가 이산(범주)형인 경우 \n",
    "        - Logistic Regression\n",
    "    - 예측과 분류 모델의 가장 큰 차이는 손실하뭇의 정의가 다르다. \n",
    "    \n",
    "    \n",
    "2. 비지도학습 알고리즘 \n",
    "    - 반응변수 Y가 존재하지 않는 경우 "
   ]
  }
 ],
 "metadata": {
  "kernelspec": {
   "display_name": "Python 3",
   "language": "python",
   "name": "python3"
  },
  "language_info": {
   "codemirror_mode": {
    "name": "ipython",
    "version": 3
   },
   "file_extension": ".py",
   "mimetype": "text/x-python",
   "name": "python",
   "nbconvert_exporter": "python",
   "pygments_lexer": "ipython3",
   "version": "3.8.3"
  }
 },
 "nbformat": 4,
 "nbformat_minor": 4
}
