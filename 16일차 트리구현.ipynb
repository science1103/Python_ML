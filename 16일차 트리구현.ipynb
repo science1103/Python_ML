{
 "cells": [
  {
   "cell_type": "code",
   "execution_count": 2,
   "metadata": {},
   "outputs": [],
   "source": [
    "class Node:\n",
    "    def __init__(self, data):\n",
    "        self.data = data \n",
    "        self.left = None\n",
    "        self.right = None "
   ]
  },
  {
   "cell_type": "code",
   "execution_count": 5,
   "metadata": {},
   "outputs": [],
   "source": [
    "root_node = Node('A')\n",
    "\n",
    "node = Node('B')\n",
    "root_node.left = node \n",
    "\n",
    "node = Node('D')\n",
    "root_node.left.left = node \n",
    "\n",
    "\n",
    "node = Node('C')\n",
    "root_node.right = node \n",
    "\n",
    "\n",
    "node = Node('E')\n",
    "root_node.right.left = node \n",
    "\n",
    "node = Node('F')\n",
    "root_node.right.right = node\n",
    "\n",
    "node = Node('G')\n",
    "root_node.right.right.right = node "
   ]
  },
  {
   "cell_type": "code",
   "execution_count": 7,
   "metadata": {},
   "outputs": [],
   "source": [
    "def preorder(node):\n",
    "    if node == None: return \n",
    "    print(node.data, end='')\n",
    "    preorder(node.left)\n",
    "    preorder(node.right)\n",
    "    \n",
    "def inorder(node):\n",
    "    if node == None: return \n",
    "    inorder(node.left)\n",
    "    print(node.data, end='')\n",
    "    inorder(node.right)\n",
    "    \n",
    "def postorder(node):\n",
    "    if node == None: return \n",
    "    postorder(node.left)\n",
    "    postorder(node.right)\n",
    "    print(node.data, end='')"
   ]
  },
  {
   "cell_type": "code",
   "execution_count": 8,
   "metadata": {},
   "outputs": [
    {
     "name": "stdout",
     "output_type": "stream",
     "text": [
      "ABDCEFG\n",
      "DBAECFG\n",
      "DBEGFCA\n"
     ]
    }
   ],
   "source": [
    "preorder(root_node)\n",
    "print()\n",
    "\n",
    "inorder(root_node)\n",
    "print()\n",
    "\n",
    "postorder(root_node)\n",
    "print()"
   ]
  },
  {
   "cell_type": "code",
   "execution_count": null,
   "metadata": {},
   "outputs": [],
   "source": [
    "class Node:\n",
    "    def __init__(self, data):\n",
    "        self.data = data\n",
    "        self.left = None\n",
    "        self.right = None \n",
    "        \n",
    "def search(node, find):\n",
    "    if node == None: return \n",
    "    if node.data == find: \n",
    "        global find_node\n",
    "        find_node = node \n",
    "        return \n",
    "    \n",
    "    search(node.left, find)\n",
    "    search(node.left, find)\n",
    "    \n",
    "def preorder(node):\n",
    "    if node == None: return \n",
    "    print(node.data, end='')\n",
    "    preorder(node.left)\n",
    "    preorder(node.right)\n",
    "    \n",
    "root_node = node('A')\n",
    "find_node = None \n",
    "\n",
    "n = int(inpit())\n",
    "for _ in range(n):\n",
    "    node, left_node, right_node = input().split()\n",
    "    search(root_node, node)\n",
    "    if left_node != '.':\n",
    "        find_node.left = Node(left_node)"
   ]
  },
  {
   "cell_type": "code",
   "execution_count": 1,
   "metadata": {},
   "outputs": [],
   "source": [
    "class Node:\n",
    "    def __init__(self, data):\n",
    "        self.data = data\n",
    "        self.left = None\n",
    "        self.right = None\n",
    "        \n",
    "def insert(node, data):\n",
    "    if node == None: return \n",
    "    if node.data > data:\n",
    "        if node.left == None:\n",
    "            node.left = Node(data)\n",
    "            return\n",
    "        insert(node.left, data)\n",
    "        "
   ]
  },
  {
   "cell_type": "code",
   "execution_count": 5,
   "metadata": {},
   "outputs": [
    {
     "name": "stdout",
     "output_type": "stream",
     "text": [
      "1 2\n",
      "1 3\n",
      "1 4\n",
      "2 4\n",
      "3 4\n"
     ]
    },
    {
     "data": {
      "text/plain": [
       "[[0, 0, 0, 0, 0],\n",
       " [0, 0, 1, 1, 1],\n",
       " [0, 1, 0, 0, 1],\n",
       " [0, 1, 0, 0, 1],\n",
       " [0, 1, 1, 1, 0]]"
      ]
     },
     "execution_count": 5,
     "metadata": {},
     "output_type": "execute_result"
    }
   ],
   "source": [
    "n, m, v = [4, 5, 1]\n",
    "\n",
    "matrix = [[0 for _ in range(n+1)] for _ in range(n+1)]\n",
    "\n",
    "for _ in range(m):\n",
    "    i, j = list(map(int, input().split() ) )\n",
    "    matrix[i][j] = 1\n",
    "    matrix[j][i] = 1\n",
    "    \n",
    "matrix"
   ]
  },
  {
   "cell_type": "code",
   "execution_count": 7,
   "metadata": {},
   "outputs": [
    {
     "data": {
      "text/plain": [
       "[0, 0, 0, 0, 0]"
      ]
     },
     "execution_count": 7,
     "metadata": {},
     "output_type": "execute_result"
    }
   ],
   "source": [
    "lists = [0 for _ in range(n+1)]\n",
    "\n",
    "for _ in range(m):\n",
    "    "
   ]
  },
  {
   "cell_type": "code",
   "execution_count": 4,
   "metadata": {},
   "outputs": [
    {
     "name": "stdout",
     "output_type": "stream",
     "text": [
      "{1: '첫번째 원소', '두번째': '두번째 원소', 3: '세번째 원소'}\n",
      "첫번째 원소\n",
      "두번째 원소\n"
     ]
    }
   ],
   "source": [
    "dict = {1: '첫번째 원소', '두번째': '두번째 원소', 3:'세번째 원소'}\n",
    "print(dict)\n",
    "print(dict[1])\n",
    "print(dict['두번째'])"
   ]
  },
  {
   "cell_type": "code",
   "execution_count": 12,
   "metadata": {},
   "outputs": [
    {
     "name": "stdout",
     "output_type": "stream",
     "text": [
      "1 2\n",
      "1 3\n",
      "1 4\n",
      "2 4\n",
      "3 4\n"
     ]
    },
    {
     "data": {
      "text/plain": [
       "{1: [2, 3, 4], 2: [1, 4], 3: [1, 4], 4: [1, 2, 3]}"
      ]
     },
     "execution_count": 12,
     "metadata": {},
     "output_type": "execute_result"
    }
   ],
   "source": [
    "n, m, v = {4, 5, 1}\n",
    "\n",
    "lists = {}\n",
    "\n",
    "for _ in range(m+1):\n",
    "    i, j = list(map(int, input().split () ))\n",
    "    if i not in lists:\n",
    "        lists[i] = [j]\n",
    "        \n",
    "    else:\n",
    "        lists[i] += [j]\n",
    "        \n",
    "    if j not in lists:\n",
    "        lists[j] = [i]\n",
    "        \n",
    "    else:\n",
    "        lists[j] += [i]\n",
    "        \n",
    "lists"
   ]
  },
  {
   "cell_type": "code",
   "execution_count": 14,
   "metadata": {},
   "outputs": [
    {
     "name": "stdout",
     "output_type": "stream",
     "text": [
      "1 2\n",
      "1 3\n",
      "1 4\n",
      "2 4\n",
      "3 4\n",
      "[1, 2, 4, 3]\n"
     ]
    }
   ],
   "source": [
    "n, m, v = [4, 5, 1] \n",
    "\n",
    "lists = {}\n",
    "\n",
    "for _ in range(m):\n",
    "    i, j = list(map(int, input().split() ) )\n",
    "    if i not in lists: \n",
    "        lists[i] = [j]\n",
    "        \n",
    "    else:\n",
    "        lists[i] += [j]\n",
    "        \n",
    "    if j not in lists:\n",
    "        lists[j] = [i]\n",
    "        \n",
    "    else:\n",
    "        lists[j] += [i]\n",
    "        \n",
    "def dfs(lists, node):\n",
    "    visited = []\n",
    "    stack = [] \n",
    "    \n",
    "    stack.append(v)\n",
    "    \n",
    "    while stack:\n",
    "        node = stack.pop(-1)\n",
    "        if node not in visited:\n",
    "            visited.append(node)\n",
    "            stack += reversed(lists[node])\n",
    "            \n",
    "    return visited\n",
    "    \n",
    "답 = dfs(lists, v)\n",
    "print(답)"
   ]
  },
  {
   "cell_type": "code",
   "execution_count": 16,
   "metadata": {},
   "outputs": [
    {
     "name": "stdout",
     "output_type": "stream",
     "text": [
      "1 2 \n",
      "1 3\n",
      "1 4\n",
      "2 4\n",
      "3 4\n",
      "[1, 2, 3, 4]\n"
     ]
    }
   ],
   "source": [
    "n, m, v = [4, 5, 1] \n",
    "\n",
    "lists = {}\n",
    "\n",
    "for _ in range(m):\n",
    "    i, j = list(map(int, input().split() ) )\n",
    "    if i not in lists: lists[i] = [j]       \n",
    "    else:lists[i] += [j]\n",
    "        \n",
    "    if j not in lists:lists[j] = [i]  \n",
    "    else:lists[j] += [i]\n",
    "        \n",
    "        \n",
    "def bfs(lists, node):\n",
    "    visited = []\n",
    "    queue = []\n",
    "    \n",
    "    queue.append(v)\n",
    "    \n",
    "    while queue:\n",
    "        node = queue.pop(0)\n",
    "        \n",
    "        if node not in visited:\n",
    "            visited.append(node)\n",
    "            queue += lists[node]\n",
    "    return visited \n",
    "\n",
    "답 = bfs(lists, v)\n",
    "print(답)\n",
    "            \n",
    "        "
   ]
  },
  {
   "cell_type": "code",
   "execution_count": null,
   "metadata": {},
   "outputs": [],
   "source": []
  }
 ],
 "metadata": {
  "kernelspec": {
   "display_name": "Python 3",
   "language": "python",
   "name": "python3"
  },
  "language_info": {
   "codemirror_mode": {
    "name": "ipython",
    "version": 3
   },
   "file_extension": ".py",
   "mimetype": "text/x-python",
   "name": "python",
   "nbconvert_exporter": "python",
   "pygments_lexer": "ipython3",
   "version": "3.8.3"
  }
 },
 "nbformat": 4,
 "nbformat_minor": 4
}
