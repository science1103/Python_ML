{
 "cells": [
  {
   "cell_type": "code",
   "execution_count": 2,
   "metadata": {},
   "outputs": [],
   "source": [
    "# nd.array하지 않고 array만 써도 배열을 불러오는 방법 중 하나\n",
    "#from numpy import *\\\n",
    "#하지만 나중에 쓸거니\n",
    "import numpy as np"
   ]
  },
  {
   "cell_type": "code",
   "execution_count": 3,
   "metadata": {},
   "outputs": [
    {
     "data": {
      "text/plain": [
       "array([1, 2, 3, 4, 5])"
      ]
     },
     "execution_count": 3,
     "metadata": {},
     "output_type": "execute_result"
    }
   ],
   "source": [
    "a= np.array([1,2,3,4,5])\n",
    "a"
   ]
  },
  {
   "cell_type": "markdown",
   "metadata": {},
   "source": [
    "# ndarray 데이터 생성하기(Random)\n",
    "- ones, zeros, empty, full, linspace 외의 데이터를 생성하기 \n",
    "- random module의 함수를 통해 ndarray를 생성해보기 "
   ]
  },
  {
   "cell_type": "markdown",
   "metadata": {},
   "source": [
    "#### rand: 0~1 사이의 랜덤한 ndarray를 생성하기 "
   ]
  },
  {
   "cell_type": "code",
   "execution_count": 7,
   "metadata": {},
   "outputs": [
    {
     "data": {
      "text/plain": [
       "array([0.28254478, 0.11125493, 0.06755619, 0.7042472 , 0.37210769])"
      ]
     },
     "execution_count": 7,
     "metadata": {},
     "output_type": "execute_result"
    }
   ],
   "source": [
    "np.random.rand(5, )"
   ]
  },
  {
   "cell_type": "code",
   "execution_count": 70,
   "metadata": {},
   "outputs": [
    {
     "data": {
      "text/plain": [
       "array([[0.42665534, 0.75808144, 0.45707601],\n",
       "       [0.60643921, 0.92234252, 0.26141857],\n",
       "       [0.6237619 , 0.17382971, 0.88102534],\n",
       "       [0.93344512, 0.6921897 , 0.8270809 ]])"
      ]
     },
     "execution_count": 70,
     "metadata": {},
     "output_type": "execute_result"
    }
   ],
   "source": [
    "#다차원도 쌉가능이지 \n",
    "np.random.rand(4,3)"
   ]
  },
  {
   "cell_type": "markdown",
   "metadata": {},
   "source": [
    "### randn(random normal distribution) 함수 \n",
    "- 정규분포 (가우스 분포)\n",
    "- 정규분포로 샘플링된 랜덤한 데이터를 생성 \n",
    "- 통계학에서 중요하게 사용하는 분포\n",
    "- 좋은 모델을 만들려면 훌륭한 표본이 있어야 하고 이는 샘플링을 훌륭하게 해야한다"
   ]
  },
  {
   "cell_type": "code",
   "execution_count": 71,
   "metadata": {},
   "outputs": [
    {
     "data": {
      "text/plain": [
       "array([ 2.38433401, -1.03849823,  1.37403011,  0.4630746 ,  0.29478269])"
      ]
     },
     "execution_count": 71,
     "metadata": {},
     "output_type": "execute_result"
    }
   ],
   "source": [
    "np.random.randn(5)"
   ]
  },
  {
   "cell_type": "code",
   "execution_count": 72,
   "metadata": {},
   "outputs": [
    {
     "data": {
      "text/plain": [
       "array([[ 1.08206923,  0.77908037, -0.54173134],\n",
       "       [-2.49030775,  0.82929967,  0.52915517],\n",
       "       [-1.01683238, -2.12044401,  0.81083351],\n",
       "       [ 0.99695848, -0.28424901,  0.49260882]])"
      ]
     },
     "execution_count": 72,
     "metadata": {},
     "output_type": "execute_result"
    }
   ],
   "source": [
    "np.random.randn(4,3)"
   ]
  },
  {
   "cell_type": "markdown",
   "metadata": {},
   "source": [
    "### randint\n",
    "- 지정된 정수 사이에서 랜덤한 ndarray를 생성\n",
    "- 차원을 생성하고 싶으면 ,size=(행, 렬) 코드 추가"
   ]
  },
  {
   "cell_type": "code",
   "execution_count": 18,
   "metadata": {
    "scrolled": true
   },
   "outputs": [
    {
     "data": {
      "text/plain": [
       "8"
      ]
     },
     "execution_count": 18,
     "metadata": {},
     "output_type": "execute_result"
    }
   ],
   "source": [
    "np.random.randint(1, 10)"
   ]
  },
  {
   "cell_type": "code",
   "execution_count": 27,
   "metadata": {},
   "outputs": [
    {
     "data": {
      "text/plain": [
       "array([3, 6, 7, 1, 6])"
      ]
     },
     "execution_count": 27,
     "metadata": {},
     "output_type": "execute_result"
    }
   ],
   "source": [
    "np.random.randint(1, 10, size=(5))"
   ]
  },
  {
   "cell_type": "code",
   "execution_count": 73,
   "metadata": {},
   "outputs": [
    {
     "data": {
      "text/plain": [
       "array([[3, 1, 1, 7, 3, 5, 4, 5],\n",
       "       [3, 7, 6, 5, 3, 1, 4, 6],\n",
       "       [4, 7, 6, 2, 3, 9, 9, 7],\n",
       "       [3, 5, 6, 8, 4, 6, 9, 4],\n",
       "       [9, 6, 2, 9, 2, 8, 8, 6]])"
      ]
     },
     "execution_count": 73,
     "metadata": {},
     "output_type": "execute_result"
    }
   ],
   "source": [
    "np.random.seed(13`)\n",
    "np.random.randint(1, 10, size=(5,8))"
   ]
  },
  {
   "cell_type": "markdown",
   "metadata": {},
   "source": [
    "### choice \n",
    "- 주어진 정수나, 1차원의 ndarray로부터 랜덤하게 샘플링하여 ndarray를 생성하는 함수"
   ]
  },
  {
   "cell_type": "code",
   "execution_count": 74,
   "metadata": {},
   "outputs": [
    {
     "data": {
      "text/plain": [
       "array([0, 1, 2, 3, 4, 5, 6, 7, 8, 9])"
      ]
     },
     "execution_count": 74,
     "metadata": {},
     "output_type": "execute_result"
    }
   ],
   "source": [
    "np.arange(10)"
   ]
  },
  {
   "cell_type": "code",
   "execution_count": 80,
   "metadata": {},
   "outputs": [
    {
     "data": {
      "text/plain": [
       "array([[5, 6, 3],\n",
       "       [5, 4, 5],\n",
       "       [9, 5, 0],\n",
       "       [1, 8, 2]])"
      ]
     },
     "execution_count": 80,
     "metadata": {},
     "output_type": "execute_result"
    }
   ],
   "source": [
    "#np.arange(10)한 ndarray로부터 랜덤하게 샘플링(초이스)\n",
    "np.random.choice(10, size = (4,3))"
   ]
  },
  {
   "cell_type": "code",
   "execution_count": 85,
   "metadata": {},
   "outputs": [
    {
     "data": {
      "text/plain": [
       "array([[3, 2, 0],\n",
       "       [6, 1, 7],\n",
       "       [2, 4, 1],\n",
       "       [5, 9, 4]])"
      ]
     },
     "execution_count": 85,
     "metadata": {},
     "output_type": "execute_result"
    }
   ],
   "source": [
    "#위의 코드를 자세하게 설명\n",
    "x = np.arange(10)\n",
    "np.random.choice(x, size=(4,3))\n",
    "\n",
    "# 즉 x의 값은 np.arange(x)를 축약한 것으로 인지하면 됨"
   ]
  },
  {
   "cell_type": "markdown",
   "metadata": {},
   "source": [
    "### 확률분포에 따른 ndarray 생성\n",
    "- 유명한 분포: 정규, 포아송, 베타분포, ... \n",
    "- 수집된 데이터로부터 확률분포를 구할 수 있다. "
   ]
  },
  {
   "cell_type": "code",
   "execution_count": 114,
   "metadata": {},
   "outputs": [
    {
     "data": {
      "text/plain": [
       "array([[1.51495085, 2.82716346, 1.91569902],\n",
       "       [1.26042358, 2.61978333, 1.80693968],\n",
       "       [1.04886529, 2.71366209, 1.54858964],\n",
       "       [2.41821193, 1.71154469, 2.58861812]])"
      ]
     },
     "execution_count": 114,
     "metadata": {},
     "output_type": "execute_result"
    }
   ],
   "source": [
    "#시작과 끝을 지정하는 정규 분포\n",
    "                #시작  #끝  #차원   \n",
    "np.random.uniform(1.0, 3.0, size=(4,3))"
   ]
  },
  {
   "cell_type": "code",
   "execution_count": 88,
   "metadata": {},
   "outputs": [
    {
     "data": {
      "text/plain": [
       "array([[ 0.16951686,  1.4997959 ,  0.70848184],\n",
       "       [ 0.83303883, -0.29892548, -2.24797567],\n",
       "       [-0.54669855,  0.19365196, -0.60778756],\n",
       "       [-0.93825855, -0.62765454,  0.44554792]])"
      ]
     },
     "execution_count": 88,
     "metadata": {},
     "output_type": "execute_result"
    }
   ],
   "source": [
    "#정규 분포\n",
    "np.random.normal(size=(4,3))"
   ]
  },
  {
   "cell_type": "code",
   "execution_count": 90,
   "metadata": {},
   "outputs": [
    {
     "data": {
      "text/plain": [
       "array([[0.052298  , 0.43538852, 0.33765272],\n",
       "       [0.58220134, 0.33390127, 0.35013409],\n",
       "       [0.85945354, 0.09487886, 0.81867458],\n",
       "       [0.2201809 , 0.45593114, 0.9684687 ]])"
      ]
     },
     "execution_count": 90,
     "metadata": {},
     "output_type": "execute_result"
    }
   ],
   "source": [
    "#이것도 정규 분포\n",
    "np.random.rand(4,3)"
   ]
  },
  {
   "cell_type": "markdown",
   "metadata": {},
   "source": [
    "### seed\n",
    "- 랜덤 데이터 생성의 기준\n",
    "- 시드값이 한 번 지정되면 랜덤값은 그대로 고정됨 \n",
    "- 한 번 값이 할당된 후에, 행렬의 크기가 바뀌더라도 할당됐던 좌표의 값은 그대로 고정됨"
   ]
  },
  {
   "cell_type": "code",
   "execution_count": 121,
   "metadata": {},
   "outputs": [
    {
     "data": {
      "text/plain": [
       "array([[ 1.3315865 ,  0.71527897, -1.54540029],\n",
       "       [-0.00838385,  0.62133597, -0.72008556],\n",
       "       [ 0.26551159,  0.10854853,  0.00429143],\n",
       "       [-0.17460021,  0.43302619,  1.20303737]])"
      ]
     },
     "execution_count": 121,
     "metadata": {},
     "output_type": "execute_result"
    }
   ],
   "source": [
    "np.random.seed(10) #seed = fix?\n",
    "np.random.randn(4,3)"
   ]
  },
  {
   "cell_type": "code",
   "execution_count": 17,
   "metadata": {},
   "outputs": [
    {
     "data": {
      "text/plain": [
       "array([[ 0.75870086, -1.03285064, -0.06726514],\n",
       "       [ 0.22687216, -3.7004789 , -0.44530956],\n",
       "       [ 0.85654153,  1.1800043 , -1.24028834],\n",
       "       [ 0.15743183,  0.36604957, -0.56275864]])"
      ]
     },
     "execution_count": 17,
     "metadata": {},
     "output_type": "execute_result"
    }
   ],
   "source": [
    "np.random.randn(4,3)"
   ]
  },
  {
   "cell_type": "markdown",
   "metadata": {},
   "source": [
    "## 다차원을 1차원으로 바꾸는 것 (12/1 추가 설명)  \n",
    "- np.ravel(객체)\n",
    "- 객체.ravel() \n",
    "- 객체.flatten()"
   ]
  },
  {
   "cell_type": "code",
   "execution_count": 129,
   "metadata": {},
   "outputs": [
    {
     "data": {
      "text/plain": [
       "array([[22, 23, 94],\n",
       "       [11, 28, 74],\n",
       "       [88,  9, 15],\n",
       "       [18, 80, 71]])"
      ]
     },
     "execution_count": 129,
     "metadata": {},
     "output_type": "execute_result"
    }
   ],
   "source": [
    "arr = np.random .randint(100, size=(4,3))\n",
    "arr"
   ]
  },
  {
   "cell_type": "code",
   "execution_count": 137,
   "metadata": {},
   "outputs": [
    {
     "data": {
      "text/plain": [
       "array([22, 23, 94, 11, 28, 74, 88,  9, 15, 18, 80, 71])"
      ]
     },
     "execution_count": 137,
     "metadata": {},
     "output_type": "execute_result"
    }
   ],
   "source": [
    "np.ravel(arr)"
   ]
  },
  {
   "cell_type": "code",
   "execution_count": 133,
   "metadata": {},
   "outputs": [
    {
     "data": {
      "text/plain": [
       "array([22, 23, 94, 11, 28, 74, 88,  9, 15, 18, 80, 71])"
      ]
     },
     "execution_count": 133,
     "metadata": {},
     "output_type": "execute_result"
    }
   ],
   "source": [
    "# default값\n",
    "# C : row 우선 변경 \n",
    "np.ravel(arr, order='C')"
   ]
  },
  {
   "cell_type": "code",
   "execution_count": 136,
   "metadata": {},
   "outputs": [
    {
     "data": {
      "text/plain": [
       "array([22, 11, 88, 18, 23, 28,  9, 80, 94, 74, 15, 71])"
      ]
     },
     "execution_count": 136,
     "metadata": {},
     "output_type": "execute_result"
    }
   ],
   "source": [
    "# F : coulmn 우선 변경 \n",
    "np.ravel(arr, order='F')"
   ]
  },
  {
   "cell_type": "markdown",
   "metadata": {},
   "source": [
    "##### ravel()"
   ]
  },
  {
   "cell_type": "code",
   "execution_count": 126,
   "metadata": {},
   "outputs": [
    {
     "data": {
      "text/plain": [
       "array([30, 30, 89, 12, 65, 31, 57, 36, 27, 18, 93, 77])"
      ]
     },
     "execution_count": 126,
     "metadata": {},
     "output_type": "execute_result"
    }
   ],
   "source": [
    "arr.ravel()"
   ]
  },
  {
   "cell_type": "code",
   "execution_count": 134,
   "metadata": {},
   "outputs": [
    {
     "data": {
      "text/plain": [
       "array([22, 11, 88, 18, 23, 28,  9, 80, 94, 74, 15, 71])"
      ]
     },
     "execution_count": 134,
     "metadata": {},
     "output_type": "execute_result"
    }
   ],
   "source": [
    "arr.ravel(order='F')"
   ]
  },
  {
   "cell_type": "markdown",
   "metadata": {},
   "source": [
    "##### flatten()"
   ]
  },
  {
   "cell_type": "code",
   "execution_count": 127,
   "metadata": {},
   "outputs": [
    {
     "data": {
      "text/plain": [
       "array([30, 30, 89, 12, 65, 31, 57, 36, 27, 18, 93, 77])"
      ]
     },
     "execution_count": 127,
     "metadata": {},
     "output_type": "execute_result"
    }
   ],
   "source": [
    "arr.flatten()"
   ]
  },
  {
   "cell_type": "code",
   "execution_count": 135,
   "metadata": {},
   "outputs": [
    {
     "data": {
      "text/plain": [
       "array([22, 11, 88, 18, 23, 28,  9, 80, 94, 74, 15, 71])"
      ]
     },
     "execution_count": 135,
     "metadata": {},
     "output_type": "execute_result"
    }
   ],
   "source": [
    "arr.flatten(order='F')"
   ]
  }
 ],
 "metadata": {
  "kernelspec": {
   "display_name": "Python 3",
   "language": "python",
   "name": "python3"
  },
  "language_info": {
   "codemirror_mode": {
    "name": "ipython",
    "version": 3
   },
   "file_extension": ".py",
   "mimetype": "text/x-python",
   "name": "python",
   "nbconvert_exporter": "python",
   "pygments_lexer": "ipython3",
   "version": "3.8.3"
  }
 },
 "nbformat": 4,
 "nbformat_minor": 4
}
